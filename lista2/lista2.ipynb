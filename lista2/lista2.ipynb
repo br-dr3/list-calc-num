{
 "cells": [
  {
   "cell_type": "markdown",
   "metadata": {},
   "source": [
    "# Exercício 1"
   ]
  },
  {
   "cell_type": "code",
   "execution_count": 1,
   "metadata": {},
   "outputs": [],
   "source": [
    "import math\n",
    "import matplotlib.pyplot as plt\n",
    "from IPython.display import clear_output, HTML, display\n",
    "from matplotlib.gridspec import GridSpec\n",
    "import tabulate"
   ]
  },
  {
   "cell_type": "code",
   "execution_count": 2,
   "metadata": {},
   "outputs": [],
   "source": [
    "def apply_method(f, x):\n",
    "    return [\n",
    "        f(xi) for xi in x\n",
    "    ]"
   ]
  },
  {
   "cell_type": "code",
   "execution_count": 3,
   "metadata": {},
   "outputs": [],
   "source": [
    "def multiply_lists(a, b):\n",
    "    if len(a) == len(b):\n",
    "        result = []\n",
    "        for i in range(len(a)):\n",
    "            result.append(a[i]*b[i])\n",
    "            \n",
    "        return result\n",
    "    \n",
    "    else:\n",
    "        return None"
   ]
  },
  {
   "cell_type": "code",
   "execution_count": 4,
   "metadata": {},
   "outputs": [],
   "source": [
    "def echelon_form(matrix, y):\n",
    "    \n",
    "    for j in range(len(m)-1):\n",
    "        if m[j][j] == 0:\n",
    "            k = 0\n",
    "            for k in range(j+1, len(m)):\n",
    "                if m[k][j] != 0:\n",
    "                    m[k], m[j] = m[j], m[k]\n",
    "                    break\n",
    "            \n",
    "            if k == len(m):\n",
    "                return None\n",
    "        \n",
    "        for i in range(j+1, len(m)):\n",
    "            m_i = -m[i][j] / m[j][j]\n",
    "            \n",
    "            for k in range(j, len(m)):\n",
    "                m[i][k] += m_i * m[j][k]\n",
    "                \n",
    "            y[i] += m_i * y[j]\n",
    "            \n",
    "    \n",
    "    return m"
   ]
  },
  {
   "cell_type": "code",
   "execution_count": 5,
   "metadata": {},
   "outputs": [],
   "source": [
    "def gauss(a, b):\n",
    "    m_echelon_form = echelon_form(a, b)\n",
    "    matrix_values = m_echelon_form\n",
    "    \n",
    "    __x = [0.0 for i in range(len(matrix_values))]\n",
    "    \n",
    "    for i in range(len(matrix_values)-1, -1, -1):\n",
    "        xi = b[i]\n",
    "        \n",
    "        for j in range(i+1, len(matrix_values)):\n",
    "            xi -= matrix_values[i][j] * __x[j]\n",
    "        \n",
    "        xi /= matrix_values[i][i]\n",
    "        __x[i] = xi\n",
    "    \n",
    "    return __x"
   ]
  },
  {
   "cell_type": "code",
   "execution_count": 6,
   "metadata": {},
   "outputs": [],
   "source": [
    "t = [i for i in range(0, 30)]"
   ]
  },
  {
   "cell_type": "code",
   "execution_count": 7,
   "metadata": {},
   "outputs": [],
   "source": [
    "x = [0.0, 1, 2.4, 4.1, 6, 8.2, 10.6, 13.4, 16.4, 19.7, \n",
    "     23.3, 27, 31.2, 35.5, 40.1, 45, 50.2, 55.6, 61.3, 67.3,\n",
    "     73.6, 80.1, 86.9, 94, 101.3, 109, 116.9, 125, 133.4, 142.1]"
   ]
  },
  {
   "cell_type": "code",
   "execution_count": 8,
   "metadata": {},
   "outputs": [],
   "source": [
    "f = [lambda x: 1, lambda x: x, lambda x: x*x]"
   ]
  },
  {
   "cell_type": "code",
   "execution_count": 9,
   "metadata": {},
   "outputs": [
    {
     "name": "stdout",
     "output_type": "stream",
     "text": [
      "m = [[30, 435, 8555], [435, 8555, 189225], [8555, 189225, 4463999]]\n",
      "c = [1580.6, 33936.4, 788446.6]\n"
     ]
    }
   ],
   "source": [
    "m = []\n",
    "c = []\n",
    "\n",
    "for fi in f:\n",
    "    mi = []\n",
    "    fi_t = apply_method(fi, t)\n",
    "    for fj in f:\n",
    "        fj_t = apply_method(fj, t)\n",
    "        multiplied_list = multiply_lists(fi_t, fj_t)\n",
    "        mi.append(sum(multiplied_list))\n",
    "        \n",
    "    m.append(mi)\n",
    "    ci = multiply_lists(fi_t, x)\n",
    "    c.append(sum(ci))\n",
    "\n",
    "print(f\"m = {m}\")\n",
    "print(f\"c = {c}\")"
   ]
  },
  {
   "cell_type": "code",
   "execution_count": 10,
   "metadata": {},
   "outputs": [
    {
     "name": "stdout",
     "output_type": "stream",
     "text": [
      "g(x) = -0.0496 + (0.9710)*x + (0.1356)*x²\n"
     ]
    }
   ],
   "source": [
    "alphas = gauss([row[:] for row in m], c.copy())\n",
    "\n",
    "st = f\"g(x) = {alphas[0]:.4f} + ({alphas[1]:.4f})*x + ({alphas[2]:.4f})*x²\"\n",
    "g = lambda x: alphas[0]*f[0](x) + alphas[1]*f[1](x) + alphas[2]*f[2](x)\n",
    "\n",
    "print(st)"
   ]
  },
  {
   "cell_type": "code",
   "execution_count": 11,
   "metadata": {},
   "outputs": [
    {
     "data": {
      "text/plain": [
       "0.2711177101541376"
      ]
     },
     "execution_count": 11,
     "metadata": {},
     "output_type": "execute_result"
    }
   ],
   "source": [
    "a = 2*alphas[2]\n",
    "a"
   ]
  },
  {
   "cell_type": "code",
   "execution_count": 12,
   "metadata": {},
   "outputs": [
    {
     "name": "stdout",
     "output_type": "stream",
     "text": [
      "a = 9.760237565548953 m/s²\n"
     ]
    }
   ],
   "source": [
    "SI_a = a * 1e-2 / (1/60) ** 2\n",
    "\n",
    "print(f\"a = {SI_a} m/s²\")"
   ]
  },
  {
   "cell_type": "markdown",
   "metadata": {},
   "source": [
    "# Exercício 2"
   ]
  },
  {
   "cell_type": "markdown",
   "metadata": {},
   "source": [
    "## Tarefa 1"
   ]
  },
  {
   "cell_type": "code",
   "execution_count": 13,
   "metadata": {},
   "outputs": [],
   "source": [
    "runge = lambda x: 1 / (1 + 25 * x * x)\n",
    "logxplus2 = lambda x: math.log(x+2)\n",
    "sinx = lambda x: math.sin(x)"
   ]
  },
  {
   "cell_type": "code",
   "execution_count": 14,
   "metadata": {},
   "outputs": [],
   "source": [
    "def equal_distance_nodes(n):\n",
    "    return [\n",
    "        -1 + 2 * j / n for j in range(n+1)\n",
    "    ]"
   ]
  },
  {
   "cell_type": "code",
   "execution_count": 15,
   "metadata": {},
   "outputs": [],
   "source": [
    "def chebyshev_nodes(n):\n",
    "    return [\n",
    "        math.cos(j * math.pi / n) for j in range(n+1)\n",
    "    ]"
   ]
  },
  {
   "cell_type": "code",
   "execution_count": 16,
   "metadata": {},
   "outputs": [],
   "source": [
    "def lagrange_polinomy(i, points, value):\n",
    "    x = [\n",
    "        xx for xx, yy in points\n",
    "    ]\n",
    "    \n",
    "    elements = []\n",
    "    for m in range(len(points)):\n",
    "        if m != i:\n",
    "            element = (value - x[m]) / (x[i] - x[m])\n",
    "            elements.append(element)\n",
    "        \n",
    "    return math.prod(elements)\n",
    "            "
   ]
  },
  {
   "cell_type": "code",
   "execution_count": 17,
   "metadata": {},
   "outputs": [],
   "source": [
    "def lagrange_interpolation(points, value):\n",
    "    y = [\n",
    "        yy for xx, yy in points\n",
    "    ]\n",
    "    \n",
    "    lagrange_polinomies = []\n",
    "    for i in range(len(points)):\n",
    "        lagrange_polinomies.append(lagrange_polinomy(i, points, value)*y[i])\n",
    "        \n",
    "    return sum(lagrange_polinomies)"
   ]
  },
  {
   "cell_type": "code",
   "execution_count": 18,
   "metadata": {},
   "outputs": [],
   "source": [
    "def divided_difference(points):\n",
    "    m = [[]]\n",
    "    x = [\n",
    "        xx for xx, yy in points\n",
    "    ]\n",
    "    y = [\n",
    "        yy for xx, yy in points\n",
    "    ]\n",
    "    \n",
    "    k = len(points)\n",
    "\n",
    "    for i in range(1, k+1):\n",
    "        m.append([None, y[i-1]])\n",
    "        \n",
    "    for j in range(2, k+1):\n",
    "        for i in range(1, k-j+2):\n",
    "            v = 1/(x[i+j-2] - x[i-1]) * (m[i+1][j-1] - m[i][j-1])\n",
    "            m[i].append(v)\n",
    "            \n",
    "    return m[1]\n",
    "    "
   ]
  },
  {
   "cell_type": "code",
   "execution_count": 19,
   "metadata": {},
   "outputs": [],
   "source": [
    "def newton_interpolation(points, value):\n",
    "    coefficients = divided_difference(points)[1:]\n",
    "    \n",
    "    x = [\n",
    "        xx for xx, yy in points\n",
    "    ]\n",
    "    \n",
    "    multiplied = []\n",
    "    for i in range(len(points)):\n",
    "        multiply = coefficients[i]\n",
    "        for j in range(i):\n",
    "            multiply *= (value-x[j])\n",
    "        \n",
    "        multiplied.append(multiply)\n",
    "    \n",
    "    \n",
    "    return sum(multiplied)"
   ]
  },
  {
   "cell_type": "code",
   "execution_count": 20,
   "metadata": {},
   "outputs": [],
   "source": [
    "chebyshev_points = lambda n, f: [\n",
    "    (x, f(x)) for x in chebyshev_nodes(n)\n",
    "]\n",
    "\n",
    "equal_distance_points = lambda n, f: [\n",
    "    (x, f(x)) for x in equal_distance_nodes(n)\n",
    "]"
   ]
  },
  {
   "cell_type": "code",
   "execution_count": 21,
   "metadata": {},
   "outputs": [],
   "source": [
    "error = lambda f, points, x, interpol_f: abs(f(x) - interpol_f(points, x))\n",
    "max_error = lambda f, points, test_points, interpol_f: max([error(f, points, x, interpol_f) for x in test_points])"
   ]
  },
  {
   "cell_type": "code",
   "execution_count": 22,
   "metadata": {},
   "outputs": [],
   "source": [
    "def _max_chebyshev_error_log(f, n, nodes_test, interpol_f):\n",
    "    return math.log(max_error(\n",
    "        f, chebyshev_points(n, f), nodes_test, interpol_f\n",
    "    ), 10)"
   ]
  },
  {
   "cell_type": "code",
   "execution_count": 23,
   "metadata": {},
   "outputs": [],
   "source": [
    "def _max_equal_distance_error_log(f, n, nodes_test, interpol_f):\n",
    "    return math.log(max_error(\n",
    "        f, equal_distance_points(n, f), nodes_test, interpol_f\n",
    "    ), 10)"
   ]
  },
  {
   "cell_type": "code",
   "execution_count": 24,
   "metadata": {},
   "outputs": [],
   "source": [
    "nodes_test = equal_distance_nodes(10117)\n",
    "\n",
    "number_of_interpolators = 2\n",
    "number_of_functions = 3\n",
    "\n",
    "lambda_calls = {\n",
    "    \"Lagrange\": {\n",
    "        \"log(x+2)\": {\n",
    "            \"chebyshev\": lambda n: _max_chebyshev_error_log(\n",
    "                logxplus2, n, nodes_test, lagrange_interpolation\n",
    "            ),\n",
    "            \"equal\": lambda n: _max_equal_distance_error_log(\n",
    "                logxplus2, n, nodes_test, lagrange_interpolation\n",
    "            )\n",
    "        },\n",
    "        \"Runge(x)\": {\n",
    "            \"chebyshev\": lambda n: _max_chebyshev_error_log(\n",
    "                runge, n, nodes_test, lagrange_interpolation\n",
    "            ),\n",
    "            \"equal\": lambda n: _max_equal_distance_error_log(\n",
    "                runge, n, nodes_test, lagrange_interpolation\n",
    "            )\n",
    "        },\n",
    "        \"sin(x)\": {\n",
    "            \"chebyshev\": lambda n: _max_chebyshev_error_log(\n",
    "                sinx, n, nodes_test, lagrange_interpolation\n",
    "            ),\n",
    "            \"equal\": lambda n: _max_equal_distance_error_log(\n",
    "                sinx, n, nodes_test, lagrange_interpolation\n",
    "            )\n",
    "        }\n",
    "    },\n",
    "    \"Newton\": {\n",
    "        \"log(x+2)\": {\n",
    "            \"chebyshev\": lambda n: _max_chebyshev_error_log(\n",
    "                logxplus2, n, nodes_test, newton_interpolation\n",
    "            ),\n",
    "            \"equal\": lambda n: _max_equal_distance_error_log(\n",
    "                logxplus2, n, nodes_test, newton_interpolation\n",
    "            )\n",
    "        },\n",
    "        \"Runge(x)\": {\n",
    "            \"chebyshev\": lambda n: _max_chebyshev_error_log(\n",
    "                runge, n, nodes_test, newton_interpolation\n",
    "            ),\n",
    "            \"equal\": lambda n: _max_equal_distance_error_log(\n",
    "                runge, n, nodes_test, newton_interpolation\n",
    "            )\n",
    "        },\n",
    "        \"sin(x)\": {\n",
    "            \"chebyshev\": lambda n: _max_chebyshev_error_log(\n",
    "                sinx, n, nodes_test, newton_interpolation\n",
    "            ),\n",
    "            \"equal\": lambda n: _max_equal_distance_error_log(\n",
    "                sinx, n, nodes_test, newton_interpolation\n",
    "            )\n",
    "        }\n",
    "    }\n",
    "    \n",
    "}\n",
    "\n",
    "errors = {\n",
    "    \"Lagrange\": {\n",
    "        \"log(x+2)\": {\n",
    "            \"chebyshev\": [],\n",
    "            \"equal\": []\n",
    "        },\n",
    "        \"Runge(x)\": {\n",
    "            \"chebyshev\": [],\n",
    "            \"equal\": []\n",
    "        },\n",
    "        \"sin(x)\": {\n",
    "            \"chebyshev\": [],\n",
    "            \"equal\": []\n",
    "        }\n",
    "    },\n",
    "    \"Newton\": {\n",
    "        \"log(x+2)\": {\n",
    "            \"chebyshev\": [],\n",
    "            \"equal\": []\n",
    "        },\n",
    "        \"Runge(x)\": {\n",
    "            \"chebyshev\": [],\n",
    "            \"equal\": []\n",
    "        },\n",
    "        \"sin(x)\": {\n",
    "            \"chebyshev\": [],\n",
    "            \"equal\": []\n",
    "        }\n",
    "    }\n",
    "}\n",
    "\n",
    "n_list = list(range(2, 101))"
   ]
  },
  {
   "cell_type": "code",
   "execution_count": 25,
   "metadata": {},
   "outputs": [
    {
     "data": {
      "image/png": "[encoded data removed]",
      "text/plain": [
       "<Figure size 576x432 with 6 Axes>"
      ]
     },
     "metadata": {
      "needs_background": "light"
     },
     "output_type": "display_data"
    },
    {
     "name": "stdout",
     "output_type": "stream",
     "text": [
      "n = 99\n"
     ]
    }
   ],
   "source": [
    "plt.ion()\n",
    "for n in n_list:\n",
    "    clear_output(wait=True)\n",
    "    figure = plt.figure(figsize=(8,6))\n",
    "    \n",
    "    gs = GridSpec(number_of_functions, number_of_interpolators)\n",
    "    line, column = 0, 0\n",
    "    a = {}\n",
    "    for interpolation_method, functions in lambda_calls.items():        \n",
    "        for function, points in functions.items():\n",
    "            a[line, column] = figure.add_subplot(gs[line, column])\n",
    "            for point_type, f in points.items():\n",
    "                errors[interpolation_method][function][point_type].append(f(n))\n",
    "                a[line, column].plot(\n",
    "                    n_list[:n-1], \n",
    "                    errors[interpolation_method][function][point_type],\n",
    "                    'bo' if point_type == 'chebyshev' else 'ro'\n",
    "                )\n",
    "                    \n",
    "            a[line, column].set_xlabel(\"n\")\n",
    "            a[line, column].set_ylabel(\"log error f(x) = \" + function)\n",
    "            title = f\"{interpolation_method} error to function {function}\"\n",
    "            a[line, column].set_title(title)\n",
    "            line += 1\n",
    "    \n",
    "        column += 1\n",
    "        line = 0\n",
    "    \n",
    "    figure.tight_layout()\n",
    "    plt.show()\n",
    "    print(f\"n = {n}\")\n",
    "    plt.pause(1e-4)\n",
    "    "
   ]
  },
  {
   "cell_type": "code",
   "execution_count": 30,
   "metadata": {},
   "outputs": [],
   "source": [
    "values_runge = [\n",
    "    [\n",
    "        'n', \n",
    "        'lagrange chebyshev nodes error', \n",
    "        'newton chebyshev nodes error', \n",
    "        'lagrange equal distance nodes error',\n",
    "        'newton equal distance nodes error'\n",
    "    ]\n",
    "]\n",
    "values_sin = [\n",
    "    [\n",
    "        'n', \n",
    "        'lagrange chebyshev nodes error', \n",
    "        'newton chebyshev nodes error', \n",
    "        'lagrange equal distance nodes error',\n",
    "        'newton equal distance nodes error'\n",
    "    ]\n",
    "]\n",
    "values_log = [\n",
    "    [\n",
    "        'n', \n",
    "        'lagrange chebyshev nodes error', \n",
    "        'newton chebyshev nodes error', \n",
    "        'lagrange equal distance nodes error',\n",
    "        'newton equal distance nodes error'\n",
    "    ]\n",
    "]\n",
    "\n",
    "for i in range(0, len(n_list), 8):\n",
    "    values_runge.append(\n",
    "        [\n",
    "            i+2, \n",
    "            errors[\"Lagrange\"][\"Runge(x)\"][\"chebyshev\"][i],\n",
    "            errors[\"Newton\"][\"Runge(x)\"][\"chebyshev\"][i],\n",
    "            errors[\"Lagrange\"][\"Runge(x)\"][\"equal\"][i],\n",
    "            errors[\"Newton\"][\"Runge(x)\"][\"equal\"][i]\n",
    "        ]\n",
    "    )\n",
    "\n",
    "    values_sin.append(\n",
    "        [\n",
    "            i+2, \n",
    "            errors[\"Lagrange\"][\"sin(x)\"][\"chebyshev\"][i],\n",
    "            errors[\"Newton\"][\"sin(x)\"][\"chebyshev\"][i],\n",
    "            errors[\"Lagrange\"][\"sin(x)\"][\"equal\"][i],\n",
    "            errors[\"Newton\"][\"sin(x)\"][\"equal\"][i]\n",
    "        ]\n",
    "    )\n",
    "\n",
    "    values_log.append(\n",
    "        [\n",
    "            i+2, \n",
    "            errors[\"Lagrange\"][\"log(x+2)\"][\"chebyshev\"][i],\n",
    "            errors[\"Newton\"][\"log(x+2)\"][\"chebyshev\"][i],\n",
    "            errors[\"Lagrange\"][\"log(x+2)\"][\"equal\"][i],\n",
    "            errors[\"Newton\"][\"log(x+2)\"][\"equal\"][i]\n",
    "        ]\n",
    "    )\n",
    "\n"
   ]
  },
  {
   "cell_type": "code",
   "execution_count": 31,
   "metadata": {},
   "outputs": [
    {
     "data": {
      "text/html": [
       "<table>\n",
       "<thead>\n",
       "<tr><th style=\"text-align: right;\">  n</th><th style=\"text-align: right;\">  lagrange chebyshev nodes error</th><th style=\"text-align: right;\">  newton chebyshev nodes error</th><th style=\"text-align: right;\">  lagrange equal distance nodes error</th><th style=\"text-align: right;\">  newton equal distance nodes error</th></tr>\n",
       "</thead>\n",
       "<tbody>\n",
       "<tr><td style=\"text-align: right;\">  2</td><td style=\"text-align: right;\">                       -0.189613</td><td style=\"text-align: right;\">                     -0.189613</td><td style=\"text-align: right;\">                            -0.189613</td><td style=\"text-align: right;\">                          -0.189613</td></tr>\n",
       "<tr><td style=\"text-align: right;\"> 10</td><td style=\"text-align: right;\">                       -0.878777</td><td style=\"text-align: right;\">                     -0.878777</td><td style=\"text-align: right;\">                             0.282318</td><td style=\"text-align: right;\">                           0.282318</td></tr>\n",
       "<tr><td style=\"text-align: right;\"> 18</td><td style=\"text-align: right;\">                       -1.58978 </td><td style=\"text-align: right;\">                     -1.58978 </td><td style=\"text-align: right;\">                             1.46524 </td><td style=\"text-align: right;\">                           1.46524 </td></tr>\n",
       "<tr><td style=\"text-align: right;\"> 26</td><td style=\"text-align: right;\">                       -2.26151 </td><td style=\"text-align: right;\">                     -2.26151 </td><td style=\"text-align: right;\">                             2.73092 </td><td style=\"text-align: right;\">                           2.73092 </td></tr>\n",
       "<tr><td style=\"text-align: right;\"> 34</td><td style=\"text-align: right;\">                       -2.95791 </td><td style=\"text-align: right;\">                     -2.95791 </td><td style=\"text-align: right;\">                             4.03138 </td><td style=\"text-align: right;\">                           4.03138 </td></tr>\n",
       "<tr><td style=\"text-align: right;\"> 42</td><td style=\"text-align: right;\">                       -3.64149 </td><td style=\"text-align: right;\">                     -3.64149 </td><td style=\"text-align: right;\">                             5.35108 </td><td style=\"text-align: right;\">                           5.35108 </td></tr>\n",
       "<tr><td style=\"text-align: right;\"> 50</td><td style=\"text-align: right;\">                       -4.33521 </td><td style=\"text-align: right;\">                     -1.75652 </td><td style=\"text-align: right;\">                             6.68301 </td><td style=\"text-align: right;\">                           6.68301 </td></tr>\n",
       "<tr><td style=\"text-align: right;\"> 58</td><td style=\"text-align: right;\">                       -5.02196 </td><td style=\"text-align: right;\">                      0.118019</td><td style=\"text-align: right;\">                             8.02342 </td><td style=\"text-align: right;\">                           8.02343 </td></tr>\n",
       "<tr><td style=\"text-align: right;\"> 66</td><td style=\"text-align: right;\">                       -5.71449 </td><td style=\"text-align: right;\">                      2.42545 </td><td style=\"text-align: right;\">                             9.37    </td><td style=\"text-align: right;\">                           9.37019 </td></tr>\n",
       "<tr><td style=\"text-align: right;\"> 74</td><td style=\"text-align: right;\">                       -6.40254 </td><td style=\"text-align: right;\">                      4.73563 </td><td style=\"text-align: right;\">                            10.7213  </td><td style=\"text-align: right;\">                          10.7253  </td></tr>\n",
       "<tr><td style=\"text-align: right;\"> 82</td><td style=\"text-align: right;\">                       -7.09444 </td><td style=\"text-align: right;\">                      7.95092 </td><td style=\"text-align: right;\">                            12.0763  </td><td style=\"text-align: right;\">                          12.2526  </td></tr>\n",
       "<tr><td style=\"text-align: right;\"> 90</td><td style=\"text-align: right;\">                       -7.78316 </td><td style=\"text-align: right;\">                     11.6218  </td><td style=\"text-align: right;\">                            13.4343  </td><td style=\"text-align: right;\">                          14.5085  </td></tr>\n",
       "<tr><td style=\"text-align: right;\"> 98</td><td style=\"text-align: right;\">                       -8.47469 </td><td style=\"text-align: right;\">                     15.9449  </td><td style=\"text-align: right;\">                            14.7948  </td><td style=\"text-align: right;\">                          17.002   </td></tr>\n",
       "</tbody>\n",
       "</table>"
      ],
      "text/plain": [
       "<IPython.core.display.HTML object>"
      ]
     },
     "metadata": {},
     "output_type": "display_data"
    }
   ],
   "source": [
    "display(HTML(tabulate.tabulate(values_runge, tablefmt='html', headers=\"firstrow\")))"
   ]
  },
  {
   "cell_type": "code",
   "execution_count": 32,
   "metadata": {},
   "outputs": [
    {
     "data": {
      "text/html": [
       "<table>\n",
       "<thead>\n",
       "<tr><th style=\"text-align: right;\">  n</th><th style=\"text-align: right;\">  lagrange chebyshev nodes error</th><th style=\"text-align: right;\">  newton chebyshev nodes error</th><th style=\"text-align: right;\">  lagrange equal distance nodes error</th><th style=\"text-align: right;\">  newton equal distance nodes error</th></tr>\n",
       "</thead>\n",
       "<tbody>\n",
       "<tr><td style=\"text-align: right;\">  2</td><td style=\"text-align: right;\">                        -1.22189</td><td style=\"text-align: right;\">                     -1.22189 </td><td style=\"text-align: right;\">                            -1.22189 </td><td style=\"text-align: right;\">                          -1.22189 </td></tr>\n",
       "<tr><td style=\"text-align: right;\"> 10</td><td style=\"text-align: right;\">                       -10.3242 </td><td style=\"text-align: right;\">                    -10.3242  </td><td style=\"text-align: right;\">                            -9.6787  </td><td style=\"text-align: right;\">                          -9.6787  </td></tr>\n",
       "<tr><td style=\"text-align: right;\"> 18</td><td style=\"text-align: right;\">                       -15.0003 </td><td style=\"text-align: right;\">                    -15.1764  </td><td style=\"text-align: right;\">                           -12.7938  </td><td style=\"text-align: right;\">                         -14.2825  </td></tr>\n",
       "<tr><td style=\"text-align: right;\"> 26</td><td style=\"text-align: right;\">                       -14.8754 </td><td style=\"text-align: right;\">                    -15.1095  </td><td style=\"text-align: right;\">                           -10.5902  </td><td style=\"text-align: right;\">                         -13.3602  </td></tr>\n",
       "<tr><td style=\"text-align: right;\"> 34</td><td style=\"text-align: right;\">                       -14.8085 </td><td style=\"text-align: right;\">                    -15.0515  </td><td style=\"text-align: right;\">                            -8.41389 </td><td style=\"text-align: right;\">                         -10.0912  </td></tr>\n",
       "<tr><td style=\"text-align: right;\"> 42</td><td style=\"text-align: right;\">                       -14.6993 </td><td style=\"text-align: right;\">                    -12.0649  </td><td style=\"text-align: right;\">                            -6.22782 </td><td style=\"text-align: right;\">                          -7.28416 </td></tr>\n",
       "<tr><td style=\"text-align: right;\"> 50</td><td style=\"text-align: right;\">                       -14.8085 </td><td style=\"text-align: right;\">                     -7.52797 </td><td style=\"text-align: right;\">                            -3.98205 </td><td style=\"text-align: right;\">                          -5.97973 </td></tr>\n",
       "<tr><td style=\"text-align: right;\"> 58</td><td style=\"text-align: right;\">                       -14.7505 </td><td style=\"text-align: right;\">                     -3.61859 </td><td style=\"text-align: right;\">                            -1.58549 </td><td style=\"text-align: right;\">                          -3.12388 </td></tr>\n",
       "<tr><td style=\"text-align: right;\"> 66</td><td style=\"text-align: right;\">                       -14.7241 </td><td style=\"text-align: right;\">                      0.660596</td><td style=\"text-align: right;\">                             0.738059</td><td style=\"text-align: right;\">                          -0.513461</td></tr>\n",
       "<tr><td style=\"text-align: right;\"> 74</td><td style=\"text-align: right;\">                       -14.5074 </td><td style=\"text-align: right;\">                      4.10699 </td><td style=\"text-align: right;\">                             3.02205 </td><td style=\"text-align: right;\">                           1.8434  </td></tr>\n",
       "<tr><td style=\"text-align: right;\"> 82</td><td style=\"text-align: right;\">                       -14.5744 </td><td style=\"text-align: right;\">                      8.84702 </td><td style=\"text-align: right;\">                             5.43484 </td><td style=\"text-align: right;\">                           5.74552 </td></tr>\n",
       "<tr><td style=\"text-align: right;\"> 90</td><td style=\"text-align: right;\">                       -14.5929 </td><td style=\"text-align: right;\">                     11.0843  </td><td style=\"text-align: right;\">                             7.77469 </td><td style=\"text-align: right;\">                           9.12253 </td></tr>\n",
       "<tr><td style=\"text-align: right;\"> 98</td><td style=\"text-align: right;\">                       -14.5744 </td><td style=\"text-align: right;\">                     16.8732  </td><td style=\"text-align: right;\">                            10.1621  </td><td style=\"text-align: right;\">                          12.8959  </td></tr>\n",
       "</tbody>\n",
       "</table>"
      ],
      "text/plain": [
       "<IPython.core.display.HTML object>"
      ]
     },
     "metadata": {},
     "output_type": "display_data"
    }
   ],
   "source": [
    "display(HTML(tabulate.tabulate(values_sin, tablefmt='html', headers=\"firstrow\")))"
   ]
  },
  {
   "cell_type": "code",
   "execution_count": 33,
   "metadata": {},
   "outputs": [
    {
     "data": {
      "text/html": [
       "<table>\n",
       "<thead>\n",
       "<tr><th style=\"text-align: right;\">  n</th><th style=\"text-align: right;\">  lagrange chebyshev nodes error</th><th style=\"text-align: right;\">  newton chebyshev nodes error</th><th style=\"text-align: right;\">  lagrange equal distance nodes error</th><th style=\"text-align: right;\">  newton equal distance nodes error</th></tr>\n",
       "</thead>\n",
       "<tbody>\n",
       "<tr><td style=\"text-align: right;\">  2</td><td style=\"text-align: right;\">                        -1.60524</td><td style=\"text-align: right;\">                      -1.60524</td><td style=\"text-align: right;\">                            -1.60524 </td><td style=\"text-align: right;\">                          -1.60524 </td></tr>\n",
       "<tr><td style=\"text-align: right;\"> 10</td><td style=\"text-align: right;\">                        -6.70393</td><td style=\"text-align: right;\">                      -6.70393</td><td style=\"text-align: right;\">                            -5.95035 </td><td style=\"text-align: right;\">                          -5.95035 </td></tr>\n",
       "<tr><td style=\"text-align: right;\"> 18</td><td style=\"text-align: right;\">                       -11.5157 </td><td style=\"text-align: right;\">                     -11.5157 </td><td style=\"text-align: right;\">                            -9.6799  </td><td style=\"text-align: right;\">                          -9.68031 </td></tr>\n",
       "<tr><td style=\"text-align: right;\"> 26</td><td style=\"text-align: right;\">                       -14.7505 </td><td style=\"text-align: right;\">                     -15.0515 </td><td style=\"text-align: right;\">                            -9.90703 </td><td style=\"text-align: right;\">                         -10.9639  </td></tr>\n",
       "<tr><td style=\"text-align: right;\"> 34</td><td style=\"text-align: right;\">                       -14.6122 </td><td style=\"text-align: right;\">                     -15.1095 </td><td style=\"text-align: right;\">                            -7.75164 </td><td style=\"text-align: right;\">                          -8.91831 </td></tr>\n",
       "<tr><td style=\"text-align: right;\"> 42</td><td style=\"text-align: right;\">                       -14.5744 </td><td style=\"text-align: right;\">                     -11.5522 </td><td style=\"text-align: right;\">                            -5.31827 </td><td style=\"text-align: right;\">                          -6.68097 </td></tr>\n",
       "<tr><td style=\"text-align: right;\"> 50</td><td style=\"text-align: right;\">                       -14.5396 </td><td style=\"text-align: right;\">                      -7.40768</td><td style=\"text-align: right;\">                            -2.97147 </td><td style=\"text-align: right;\">                          -5.32151 </td></tr>\n",
       "<tr><td style=\"text-align: right;\"> 58</td><td style=\"text-align: right;\">                       -14.5744 </td><td style=\"text-align: right;\">                      -3.7536 </td><td style=\"text-align: right;\">                            -0.679381</td><td style=\"text-align: right;\">                          -2.3261  </td></tr>\n",
       "<tr><td style=\"text-align: right;\"> 66</td><td style=\"text-align: right;\">                       -14.5396 </td><td style=\"text-align: right;\">                       1.08163</td><td style=\"text-align: right;\">                             1.70866 </td><td style=\"text-align: right;\">                           0.455047</td></tr>\n",
       "<tr><td style=\"text-align: right;\"> 74</td><td style=\"text-align: right;\">                       -14.3983 </td><td style=\"text-align: right;\">                       5.14751</td><td style=\"text-align: right;\">                             4.01593 </td><td style=\"text-align: right;\">                           2.8104  </td></tr>\n",
       "<tr><td style=\"text-align: right;\"> 82</td><td style=\"text-align: right;\">                       -14.4494 </td><td style=\"text-align: right;\">                       8.95464</td><td style=\"text-align: right;\">                             6.44928 </td><td style=\"text-align: right;\">                           6.14931 </td></tr>\n",
       "<tr><td style=\"text-align: right;\"> 90</td><td style=\"text-align: right;\">                       -14.4231 </td><td style=\"text-align: right;\">                      13.1004 </td><td style=\"text-align: right;\">                             8.63598 </td><td style=\"text-align: right;\">                           9.97062 </td></tr>\n",
       "<tr><td style=\"text-align: right;\"> 98</td><td style=\"text-align: right;\">                       -14.4231 </td><td style=\"text-align: right;\">                      15.9616 </td><td style=\"text-align: right;\">                            11.0374  </td><td style=\"text-align: right;\">                          14.3954  </td></tr>\n",
       "</tbody>\n",
       "</table>"
      ],
      "text/plain": [
       "<IPython.core.display.HTML object>"
      ]
     },
     "metadata": {},
     "output_type": "display_data"
    }
   ],
   "source": [
    "display(HTML(tabulate.tabulate(values_log, tablefmt='html', headers=\"firstrow\")))"
   ]
  }
 ],
 "metadata": {
  "kernelspec": {
   "display_name": "Python 3",
   "language": "python",
   "name": "python3"
  },
  "language_info": {
   "codemirror_mode": {
    "name": "ipython",
    "version": 3
   },
   "file_extension": ".py",
   "mimetype": "text/x-python",
   "name": "python",
   "nbconvert_exporter": "python",
   "pygments_lexer": "ipython3",
   "version": "3.8.1"
  }
 },
 "nbformat": 4,
 "nbformat_minor": 4
}
