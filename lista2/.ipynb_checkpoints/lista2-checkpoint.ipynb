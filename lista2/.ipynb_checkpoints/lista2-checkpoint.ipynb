{
 "cells": [
  {
   "cell_type": "markdown",
   "metadata": {},
   "source": [
    "# Exercício 1"
   ]
  },
  {
   "cell_type": "code",
   "execution_count": 1,
   "metadata": {},
   "outputs": [],
   "source": [
    "import math\n",
    "import functools"
   ]
  },
  {
   "cell_type": "code",
   "execution_count": 2,
   "metadata": {},
   "outputs": [],
   "source": [
    "def apply_method(f, x):\n",
    "    return [\n",
    "        f(xi) for xi in x\n",
    "    ]"
   ]
  },
  {
   "cell_type": "code",
   "execution_count": 3,
   "metadata": {},
   "outputs": [],
   "source": [
    "def multiply_lists(a, b):\n",
    "    if len(a) == len(b):\n",
    "        result = []\n",
    "        for i in range(len(a)):\n",
    "            result.append(a[i]*b[i])\n",
    "            \n",
    "        return result\n",
    "    \n",
    "    else:\n",
    "        return None"
   ]
  },
  {
   "cell_type": "code",
   "execution_count": 4,
   "metadata": {},
   "outputs": [],
   "source": [
    "def echelon_form(matrix, y):\n",
    "    \n",
    "    for j in range(len(m)-1):\n",
    "        if m[j][j] == 0:\n",
    "            k = 0\n",
    "            for k in range(j+1, len(m)):\n",
    "                if m[k][j] != 0:\n",
    "                    m[k], m[j] = m[j], m[k]\n",
    "                    break\n",
    "            \n",
    "            if k == len(m):\n",
    "                return None\n",
    "        \n",
    "        for i in range(j+1, len(m)):\n",
    "            m_i = -m[i][j] / m[j][j]\n",
    "            \n",
    "            for k in range(j, len(m)):\n",
    "                m[i][k] += m_i * m[j][k]\n",
    "                \n",
    "            y[i] += m_i * y[j]\n",
    "            \n",
    "    \n",
    "    return m"
   ]
  },
  {
   "cell_type": "code",
   "execution_count": 5,
   "metadata": {},
   "outputs": [],
   "source": [
    "def gauss(a, b):\n",
    "    m_echelon_form = echelon_form(a, b)\n",
    "    matrix_values = m_echelon_form\n",
    "    \n",
    "    __x = [0.0 for i in range(len(matrix_values))]\n",
    "    \n",
    "    for i in range(len(matrix_values)-1, -1, -1):\n",
    "        xi = b[i]\n",
    "        \n",
    "        for j in range(i+1, len(matrix_values)):\n",
    "            xi -= matrix_values[i][j] * __x[j]\n",
    "        \n",
    "        xi /= matrix_values[i][i]\n",
    "        __x[i] = xi\n",
    "    \n",
    "    return __x"
   ]
  },
  {
   "cell_type": "code",
   "execution_count": 6,
   "metadata": {},
   "outputs": [],
   "source": [
    "t = [i for i in range(0, 30)]"
   ]
  },
  {
   "cell_type": "code",
   "execution_count": 7,
   "metadata": {},
   "outputs": [],
   "source": [
    "x = [0.0, 1, 2.4, 4.1, 6, 8.2, 10.6, 13.4, 16.4, 19.7, \n",
    "     23.3, 27, 31.2, 35.5, 40.1, 45, 50.2, 55.6, 61.3, 67.3,\n",
    "     73.6, 80.1, 86.9, 94, 101.3, 109, 116.9, 125, 133.4, 142.1]"
   ]
  },
  {
   "cell_type": "code",
   "execution_count": 8,
   "metadata": {},
   "outputs": [],
   "source": [
    "f = [lambda x: 1, lambda x: x, lambda x: x*x]"
   ]
  },
  {
   "cell_type": "code",
   "execution_count": 9,
   "metadata": {},
   "outputs": [
    {
     "name": "stdout",
     "output_type": "stream",
     "text": [
      "m = [[30, 435, 8555], [435, 8555, 189225], [8555, 189225, 4463999]]\n",
      "c = [1580.6, 33936.4, 788446.6]\n"
     ]
    }
   ],
   "source": [
    "m = []\n",
    "c = []\n",
    "\n",
    "for fi in f:\n",
    "    mi = []\n",
    "    fi_t = apply_method(fi, t)\n",
    "    for fj in f:\n",
    "        fj_t = apply_method(fj, t)\n",
    "        multiplied_list = multiply_lists(fi_t, fj_t)\n",
    "        mi.append(sum(multiplied_list))\n",
    "        \n",
    "    m.append(mi)\n",
    "    ci = multiply_lists(fi_t, x)\n",
    "    c.append(sum(ci))\n",
    "\n",
    "print(f\"m = {m}\")\n",
    "print(f\"c = {c}\")"
   ]
  },
  {
   "cell_type": "code",
   "execution_count": 10,
   "metadata": {},
   "outputs": [
    {
     "name": "stdout",
     "output_type": "stream",
     "text": [
      "g(x) = -0.0496 + (0.9710)*x + (0.1356)*x²\n"
     ]
    }
   ],
   "source": [
    "alphas = gauss([row[:] for row in m], c.copy())\n",
    "\n",
    "st = f\"g(x) = {alphas[0]:.4f} + ({alphas[1]:.4f})*x + ({alphas[2]:.4f})*x²\"\n",
    "g = lambda x: alphas[0]*f[0](x) + alphas[1]*f[1](x) + alphas[2]*f[2](x)\n",
    "\n",
    "print(st)"
   ]
  },
  {
   "cell_type": "code",
   "execution_count": 11,
   "metadata": {},
   "outputs": [
    {
     "data": {
      "text/plain": [
       "0.2711177101541376"
      ]
     },
     "execution_count": 11,
     "metadata": {},
     "output_type": "execute_result"
    }
   ],
   "source": [
    "a = 2*alphas[2]\n",
    "a"
   ]
  },
  {
   "cell_type": "code",
   "execution_count": 12,
   "metadata": {},
   "outputs": [
    {
     "name": "stdout",
     "output_type": "stream",
     "text": [
      "a = 9.760237565548953 m/s²\n"
     ]
    }
   ],
   "source": [
    "SI_a = a * 1e-2 / (1/60) ** 2\n",
    "\n",
    "print(f\"a = {SI_a} m/s²\")"
   ]
  },
  {
   "cell_type": "markdown",
   "metadata": {},
   "source": [
    "# Exercício 2"
   ]
  },
  {
   "cell_type": "markdown",
   "metadata": {},
   "source": [
    "## Tarefa 1"
   ]
  },
  {
   "cell_type": "code",
   "execution_count": 13,
   "metadata": {},
   "outputs": [],
   "source": [
    "runge_function = lambda x: 1 / (1 + 25 * x * x)"
   ]
  },
  {
   "cell_type": "code",
   "execution_count": null,
   "metadata": {},
   "outputs": [],
   "source": []
  },
  {
   "cell_type": "code",
   "execution_count": 14,
   "metadata": {},
   "outputs": [],
   "source": [
    "def lagrange_polinomy(i, data, value):\n",
    "    x = [\n",
    "        xx for xx, yy in data\n",
    "    ]\n",
    "    \n",
    "    elements = []\n",
    "    for m in range(len(data)):\n",
    "        if m != i:\n",
    "            element = (value - x[m]) / (x[i] - x[m])\n",
    "            elements.append(element)\n",
    "        \n",
    "    return math.prod(elements)\n",
    "            "
   ]
  },
  {
   "cell_type": "code",
   "execution_count": 15,
   "metadata": {},
   "outputs": [],
   "source": [
    "def lagrange_interpolation(data, value):\n",
    "    y = [\n",
    "        yy for xx, yy in data\n",
    "    ]\n",
    "    \n",
    "    interpolation = []\n",
    "    for i in range(len(data)):\n",
    "        interpolation.append(lagrange_polinomy(i, data, value)*y[i])\n",
    "        \n",
    "    return sum(interpolation)"
   ]
  }
 ],
 "metadata": {
  "kernelspec": {
   "display_name": "Python 3",
   "language": "python",
   "name": "python3"
  },
  "language_info": {
   "codemirror_mode": {
    "name": "ipython",
    "version": 3
   },
   "file_extension": ".py",
   "mimetype": "text/x-python",
   "name": "python",
   "nbconvert_exporter": "python",
   "pygments_lexer": "ipython3",
   "version": "3.8.1"
  }
 },
 "nbformat": 4,
 "nbformat_minor": 4
}
