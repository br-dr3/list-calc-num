{
 "cells": [
  {
   "cell_type": "code",
   "execution_count": 1,
   "metadata": {},
   "outputs": [],
   "source": [
    "def print_matrix(matrix):\n",
    "    return ('[' + \n",
    "            ']\\n['.join(\n",
    "                [''.join(\n",
    "                    ['{}\\t'.format(row[i]) if i != len(row)-1 \n",
    "                     else '{}'.format(row[i]) \n",
    "                     for i in range(len(row))]\n",
    "                ) for row in matrix]\n",
    "            ) + ']')"
   ]
  },
  {
   "cell_type": "code",
   "execution_count": 2,
   "metadata": {},
   "outputs": [],
   "source": [
    "t_test = [i/10 for i in range(11)]\n",
    "x_test = [2, 1.81, 1.64, 1.49, 1.36, 1.25, 1.16, 1.09, 1.04, 1.01, 1]\n",
    "\n",
    "\n",
    "x0_test = 2\n",
    "xn_test = 2"
   ]
  },
  {
   "cell_type": "markdown",
   "metadata": {},
   "source": [
    "# Implementando o cálculo de h\n",
    "\n",
    "De forma geral, o vetor h é definido da seguinte forma:\n",
    "\n",
    "> h<sub>i+1</sub> = t<sub>i+1</sub> - t<sub>i</sub>, para i no intervalo \\[0, n-1\\]\n",
    "\n",
    "Para facilitar a implementação, o h<sub>0</sub> será considerado 0, mas não será usado na conta."
   ]
  },
  {
   "cell_type": "code",
   "execution_count": 3,
   "metadata": {},
   "outputs": [],
   "source": [
    "def calculate_h(values):\n",
    "    h = [None] + [\n",
    "        values[i+1] - values[i]\n",
    "        for i in range(len(values)-1)\n",
    "    ]\n",
    "    \n",
    "    return h"
   ]
  },
  {
   "cell_type": "markdown",
   "metadata": {},
   "source": [
    "# Calculando λ\n",
    "\n",
    "Cada um dos λ<sub>i</sub>, i ∈ \\[0, n-1\\] é descrito da seguinte forma:\n",
    "\n",
    "> se i = 0 &rarr; λ<sub>0</sub> = 0 <br> senão &rarr; λ<sub>i</sub> = <sup>h<sub>i+1</sub></sup>&frasl;<sub>(h<sub>i</sub> + h<sub>i+1</sub>)"
   ]
  },
  {
   "cell_type": "code",
   "execution_count": 4,
   "metadata": {},
   "outputs": [],
   "source": [
    "def calculate_lambda(h_values):\n",
    "    lambda_ = [0.0] + [\n",
    "        h_values[i+1]/(h_values[i]+h_values[i+1])\n",
    "        for i in range(1, len(h_values)-1)\n",
    "    ]\n",
    "    \n",
    "    return lambda_"
   ]
  },
  {
   "cell_type": "markdown",
   "metadata": {},
   "source": [
    "# Calculando μ\n",
    "\n",
    "Cada um dos μ<sub>i</sub> i ∈ \\[1, n\\] são definidos da seguinte forma:\n",
    "\n",
    "> se i == n &rarr; μ<sub>i</sub> = 0 <br> senão μ<sub>i</sub> = <sup>h<sub>i</sub></sup>&frasl;<sub>(h<sub>i</sub> + h<sub>i+1</sub>)\n",
    "\n",
    "Para efeito de facilidade, definiremos o μ<sub>0</sub> como 0, mas ele não será utilizado na matriz final."
   ]
  },
  {
   "cell_type": "code",
   "execution_count": 5,
   "metadata": {},
   "outputs": [],
   "source": [
    "def calculate_mi(h_values):\n",
    "    mi = [None] + [\n",
    "        h_values[i]/(h_values[i]+h_values[i+1]) \n",
    "        for i in range(1, len(h_values)-1)\n",
    "    ] + [0.0]\n",
    "    \n",
    "    return mi"
   ]
  },
  {
   "cell_type": "markdown",
   "metadata": {},
   "source": [
    "# Matriz\n",
    "\n",
    "Com isso já é possível construir a matriz, como segue na função:"
   ]
  },
  {
   "cell_type": "code",
   "execution_count": 6,
   "metadata": {},
   "outputs": [],
   "source": [
    "def build_matrix(lambda_, mi, size):\n",
    "    matrix = []\n",
    "    for i in range(size):\n",
    "        matrix_i = []\n",
    "        for j in range(size):\n",
    "            if i == j:\n",
    "                matrix_i += [2.0]\n",
    "            elif i-1 == j:\n",
    "                matrix_i += [mi[j+1]]\n",
    "            elif j-1 == i:\n",
    "                matrix_i += [lambda_[i]]\n",
    "            else:\n",
    "                matrix_i += [0.0]\n",
    "        matrix += [matrix_i]\n",
    "    \n",
    "    return matrix"
   ]
  },
  {
   "cell_type": "markdown",
   "metadata": {},
   "source": [
    "Para efeito de teste, uma das características dessa matriz é ser quadrada. Aqui se encontra uma forma de descobrir se esta matriz é quadrada.\n"
   ]
  },
  {
   "cell_type": "code",
   "execution_count": 7,
   "metadata": {},
   "outputs": [],
   "source": [
    "def is_square_matrix(matrix):\n",
    "    expected_size = len(matrix)\n",
    "    \n",
    "    for each_list in matrix:\n",
    "        if len(each_list) != expected_size:\n",
    "            return False\n",
    "        \n",
    "    return True"
   ]
  },
  {
   "cell_type": "markdown",
   "metadata": {},
   "source": [
    "## Calculando d\n",
    "\n",
    "Cada um dos d<sub>i</sub> entre \\[0, n\\], e dados d<sub>0</sub> e d<sub>n</sub>, o vetor d é o que segue:\n"
   ]
  },
  {
   "cell_type": "code",
   "execution_count": 8,
   "metadata": {},
   "outputs": [],
   "source": [
    "def calculate_d(x, h, x0, xn):\n",
    "    therms = [\n",
    "        (6 / (h[i] + h[i+1]),\n",
    "        (x[i+1] - x[i]) / h[i+1],\n",
    "        (x[i] - x[i-1])/h[i])\n",
    "        for i in range(1, len(h)-1)\n",
    "    ]\n",
    "    \n",
    "    d = [x0] + [\n",
    "        therm[0] * (therm[1] - therm[2])\n",
    "        for therm in therms\n",
    "    ] + [xn]\n",
    "    \n",
    "    return d"
   ]
  },
  {
   "cell_type": "markdown",
   "metadata": {},
   "source": [
    "Possuindo todos os termos, o objetivo é encontrar o valor das constantes M<sub>i</sub>. Para isso, é necessário calcular a equação Ax = b, onde A é a matriz, e b o vetor d. Para este problema, foi proposto a solução de Gauss e de Jacobi, como segue:\n",
    "\n",
    "## Eliminação de Gauss\n",
    "Primeiro deve-se escalonar a matriz, conforme o algoritmo abaixo."
   ]
  },
  {
   "cell_type": "code",
   "execution_count": 9,
   "metadata": {},
   "outputs": [],
   "source": [
    "def echelon_form(m, y):\n",
    "    for j in range(len(m)-1):\n",
    "        if m[j][j] == 0:\n",
    "            k = 0\n",
    "            for k in range(j+1, len(m)):\n",
    "                if m[k][j] != 0:\n",
    "                    m[k], m[j] = m[j], m[k]\n",
    "                    break\n",
    "            \n",
    "            if k == len(m):\n",
    "                return None\n",
    "        \n",
    "        for i in range(j+1, len(m)):\n",
    "            m_i = -m[i][j] / m[j][j]\n",
    "            \n",
    "            for k in range(j, len(m)):\n",
    "                m[i][k] += m_i * m[j][k]\n",
    "                \n",
    "            y[i] += m_i * y[j]\n",
    "            \n",
    "    \n",
    "    return m"
   ]
  },
  {
   "cell_type": "markdown",
   "metadata": {},
   "source": [
    "Depois, devemos calcular o valor da solução, podendo usar o método de eliminação de Gauss, como segue."
   ]
  },
  {
   "cell_type": "code",
   "execution_count": 10,
   "metadata": {},
   "outputs": [],
   "source": [
    "def gauss(a, b):\n",
    "    m_echelon_form = echelon_form(a, b)\n",
    "    matrix_values = m_echelon_form\n",
    "    \n",
    "    __x = [0.0 for i in range(len(matrix_values))]\n",
    "    \n",
    "    for i in range(len(matrix_values)-1, -1, -1):\n",
    "        xi = b[i]\n",
    "        \n",
    "        for j in range(i+1, len(matrix_values)):\n",
    "            xi -= matrix_values[i][j] * __x[j]\n",
    "        \n",
    "        xi /= matrix_values[i][i]\n",
    "        __x[i] = xi\n",
    "    \n",
    "    return __x\n",
    "        "
   ]
  },
  {
   "cell_type": "markdown",
   "metadata": {},
   "source": [
    "## Algoritmo de Jacobi\n",
    "\n",
    "Para calcular a solução da matriz usando Jacobi, é necessários critérios de convergência. É comum que se escolha uma tolerância e um número de iterações máximo.\n",
    "\n",
    "Para o número de iterações, basta contabilizar o número de vezes que um laço foi executado.\n",
    "\n",
    "Quanto a tolerância, o desejado é que um número epsilon fique menor que a tolerância, e portanto precisa definir um valor de epsilon para cada iteração. Usaremos para esse caso a norma-∞ da diferença do vetor da iteração atual e da iteração anterior, como segue: "
   ]
  },
  {
   "cell_type": "code",
   "execution_count": 11,
   "metadata": {},
   "outputs": [],
   "source": [
    "def norm_of_vectors_difference(x, y):\n",
    "    if len(x) != len(y):\n",
    "        return None\n",
    "        \n",
    "    norms_list = [abs(x[i]-y[i]) for i in range(len(x))]\n",
    "    return max(norms_list)"
   ]
  },
  {
   "cell_type": "code",
   "execution_count": 12,
   "metadata": {},
   "outputs": [],
   "source": [
    "def jacobi(d, lambda_, mi, guessed_x, tolerance, max_iteration):\n",
    "    epsilon = tolerance + 1\n",
    "    k = 0\n",
    "    \n",
    "    x_old = guessed_x.copy()\n",
    "    x_new = guessed_x.copy()\n",
    "        \n",
    "    while k < max_iteration and epsilon > tolerance:\n",
    "        x0 = (1/2) * (d[0])\n",
    "        xn = (1/2) * (d[len(d)-1])\n",
    "        \n",
    "        x_new = [x0] + [\n",
    "            (1/2) * (d[i] - mi[i] * x_old[i-1] - lambda_[i] * x_old[i+1])\n",
    "            for i in range(1, len(d)-1)\n",
    "        ] + [xn]\n",
    "              \n",
    "        epsilon = norm_of_vectors_difference(x_new, x_old)\n",
    "        x_old = x_new.copy()\n",
    "        k += 1\n",
    "    \n",
    "    return x_new"
   ]
  },
  {
   "cell_type": "markdown",
   "metadata": {},
   "source": [
    "Agora, só é necessário calcular os valores das constantes A e B"
   ]
  },
  {
   "cell_type": "code",
   "execution_count": 13,
   "metadata": {},
   "outputs": [],
   "source": [
    "def calculate_a(x, h, m):\n",
    "    therms = [\n",
    "        ((x[i+1]-x[i])/h[i+1],\n",
    "        h[i+1] * (m[i+1]-m[i])/6)\n",
    "        for i in range(len(x)-1)\n",
    "    ]\n",
    "    \n",
    "    a = [therm_one - therm_two for therm_one, therm_two in therms]\n",
    "    \n",
    "    return a\n",
    "    "
   ]
  },
  {
   "cell_type": "code",
   "execution_count": 14,
   "metadata": {},
   "outputs": [],
   "source": [
    "def calculate_b(x, h, m):\n",
    "    b = [\n",
    "        x[i] - (m[i] / 6) * h[i+1] ** 2\n",
    "        for i in range(len(x)-1)\n",
    "    ]\n",
    "    \n",
    "    return b"
   ]
  },
  {
   "cell_type": "markdown",
   "metadata": {},
   "source": [
    "## Calculando para os valores de teste"
   ]
  },
  {
   "cell_type": "code",
   "execution_count": 15,
   "metadata": {
    "scrolled": false
   },
   "outputs": [
    {
     "name": "stdout",
     "output_type": "stream",
     "text": [
      "[2.0\t0.0\t0.0\t0.0\t0.0\t0.0\t0.0\t0.0\t0.0\t0.0\t0.0]\n",
      "[0.5\t2.0\t0.5\t0.0\t0.0\t0.0\t0.0\t0.0\t0.0\t0.0\t0.0]\n",
      "[0.0\t0.5000000000000001\t2.0\t0.49999999999999994\t0.0\t0.0\t0.0\t0.0\t0.0\t0.0\t0.0]\n",
      "[0.0\t0.0\t0.4999999999999999\t2.0\t0.5000000000000001\t0.0\t0.0\t0.0\t0.0\t0.0\t0.0]\n",
      "[0.0\t0.0\t0.0\t0.5000000000000001\t2.0\t0.4999999999999999\t0.0\t0.0\t0.0\t0.0\t0.0]\n",
      "[0.0\t0.0\t0.0\t0.0\t0.5\t2.0\t0.5\t0.0\t0.0\t0.0\t0.0]\n",
      "[0.0\t0.0\t0.0\t0.0\t0.0\t0.5\t2.0\t0.5\t0.0\t0.0\t0.0]\n",
      "[0.0\t0.0\t0.0\t0.0\t0.0\t0.0\t0.4999999999999997\t2.0\t0.5000000000000002\t0.0\t0.0]\n",
      "[0.0\t0.0\t0.0\t0.0\t0.0\t0.0\t0.0\t0.5000000000000002\t2.0\t0.4999999999999997\t0.0]\n",
      "[0.0\t0.0\t0.0\t0.0\t0.0\t0.0\t0.0\t0.0\t0.5\t2.0\t0.5]\n",
      "[0.0\t0.0\t0.0\t0.0\t0.0\t0.0\t0.0\t0.0\t0.0\t0.0\t2.0]\n",
      "\n",
      "M_gauss = [2.0, 1.9999999999999596, 2.0000000000000395, 2.000000000000014, 1.9999999999999545, 2.0000000000000036, 2.000000000000046, 1.9999999999999645, 2.000000000000002, 2.0000000000000036, 2.0]\n",
      "\n",
      "M_jacob = [2.0, 1.9999999992687736, 1.9999999985376675, 1.9999999980857468, 1.9999999976337923, 1.9999999976338405, 1.9999999976338836, 1.999999998085697, 1.9999999985376304, 1.9999999992688173, 2.0]\n",
      "\n",
      "A_gauss = [-1.8999999999999988, -1.7000000000000028, -1.499999999999999, -1.2999999999999976, -1.100000000000002, -0.9000000000000017, -0.6999999999999972, -0.5000000000000007, -0.3000000000000003, -0.10000000000000006]\n",
      "\n",
      "A_jacob = [-1.8999999999878123, -1.6999999999878164, -1.4999999999924674, -1.2999999999924658, -1.100000000000002, -0.9000000000000017, -0.7000000000075287, -0.5000000000075322, -0.3000000000121868, -0.1000000000121865]\n",
      "\n",
      "B_gauss = [1.9966666666666666, 1.8066666666666669, 1.6366666666666665, 1.4866666666666666, 1.356666666666667, 1.2466666666666666, 1.1566666666666665, 1.086666666666667, 1.0366666666666666, 1.0066666666666666]\n",
      "\n",
      "B_jacob = [1.9966666666666666, 1.8066666666678854, 1.6366666666691039, 1.4866666666698571, 1.3566666666706104, 1.2466666666706103, 1.15666666667061, 1.0866666666698572, 1.036666666669104, 1.0066666666678854]\n",
      "\n",
      "M_gauss = [2.0, 1.9999999999999596, 2.0000000000000395, 2.000000000000014, 1.9999999999999545, 2.0000000000000036, 2.000000000000046, 1.9999999999999645, 2.000000000000002, 2.0000000000000036, 2.0]\n",
      "\n",
      "M_jacob = [2.0, 1.9999999992687736, 1.9999999985376675, 1.9999999980857468, 1.9999999976337923, 1.9999999976338405, 1.9999999976338836, 1.999999998085697, 1.9999999985376304, 1.9999999992688173, 2.0]\n",
      "\n"
     ]
    }
   ],
   "source": [
    "h = calculate_h(t_test)\n",
    "\n",
    "lambda_ = calculate_lambda(h)\n",
    "\n",
    "mi = calculate_mi(h)\n",
    "\n",
    "matrix = build_matrix(lambda_, mi, len(t_test))\n",
    "print(print_matrix(matrix))\n",
    "print()\n",
    "\n",
    "\n",
    "d = calculate_d(x_test, h, 2*x0_test, 2*xn_test)\n",
    "\n",
    "gauss_result = gauss([row[:] for row in matrix], d.copy())\n",
    "jacobi_result = jacobi(d, lambda_, mi, [0]*len(t_test), 1e-8, 1000)\n",
    "print(f\"M_gauss = {gauss_result}\\n\")\n",
    "print(f\"M_jacob = {jacobi_result}\\n\")\n",
    "\n",
    "a_gauss = calculate_a(x_test, h, gauss_result)\n",
    "a_jacob = calculate_a(x_test, h, jacobi_result)\n",
    "print(f\"A_gauss = {a_gauss}\\n\")\n",
    "print(f\"A_jacob = {a_jacob}\\n\")\n",
    "\n",
    "b_gauss = calculate_b(x_test, h, gauss_result)\n",
    "b_jacob = calculate_b(x_test, h, jacobi_result)\n",
    "print(f\"B_gauss = {b_gauss}\\n\")\n",
    "print(f\"B_jacob = {b_jacob}\\n\")\n",
    "\n",
    "gauss_result = gauss([row[:] for row in matrix], d.copy())\n",
    "jacobi_result = jacobi(d, lambda_, mi, [0]*len(t_test), 1e-8, 1000)\n",
    "print(f\"M_gauss = {gauss_result}\\n\")\n",
    "print(f\"M_jacob = {jacobi_result}\\n\")"
   ]
  },
  {
   "cell_type": "markdown",
   "metadata": {},
   "source": [
    "# Tarefa 2"
   ]
  },
  {
   "cell_type": "markdown",
   "metadata": {},
   "source": [
    "## 2.1 Monte e resolva o sistema de equações"
   ]
  },
  {
   "cell_type": "code",
   "execution_count": 16,
   "metadata": {},
   "outputs": [],
   "source": [
    "t = list(range(30))\n",
    "\n",
    "x = [\n",
    "    0.0, 1, 2.4, 4.1, 6, 8.2, 10.6, 13.4, 16.4, 19.7,\n",
    "    23.3, 27, 31.2, 35.5, 40.1, 45, 50.2, 55.6, 61.3, 67.3,\n",
    "    73.6, 80.1, 86.9, 94, 101.3, 109, 116.9, 125, 133.4, 142.1\n",
    "]\n",
    "\n",
    "x0 = (x[2] - x[1])/(t[2] - t[1])\n",
    "x0 -= (x[1] - x[0])/(t[1] - t[0])\n",
    "x0 /= (t[2] - t[0])\n",
    "xn = (x[len(t)-1] - x[len(t)-2])/(t[len(t)-1] - t[len(t)-2])\n",
    "xn -= (x[len(t)-2] - x[len(t)-3])/(t[len(t)-2] - t[len(t)-3])\n",
    "xn /= (t[len(t)-1] - t[len(t)-3])\n",
    "\n",
    "h = calculate_h(t)\n",
    "mi = calculate_mi(h)\n",
    "lambda_ = calculate_lambda(h)\n",
    "\n",
    "matrix = build_matrix(lambda_, mi, len(t))\n",
    "\n",
    "d = calculate_d(x, h, 2*x0, 2*xn)"
   ]
  },
  {
   "cell_type": "markdown",
   "metadata": {},
   "source": [
    "## Gauss"
   ]
  },
  {
   "cell_type": "code",
   "execution_count": 17,
   "metadata": {},
   "outputs": [
    {
     "name": "stdout",
     "output_type": "stream",
     "text": [
      "[0.19999999999999996, 0.47491448152236915, 0.3003420739105226, 0.12371722283553932, 0.4047890347473239, 0.05712663817515884, 0.5667044125520472, 0.0760557116166542, 0.3290727409813211, 0.40765332445807634, -0.1596860388136224, 0.8310908307964004, -0.16467728437197943, 0.42761830669152584, 0.2542040576058802, 0.35556546288493635, 0.12353409085439998, 0.35029817369743826, 0.27527321435583, 0.3486089688792674, 0.1302909101270834, 0.3302273906124161, 0.3487995274233202, 0.07457449969420091, 0.5529024737998933, 0.11381560510625992, 0.19183510577508414, 0.3188439717933353, 0.33278900705164277, 0.14999999999999147]\n",
      "[0.9541809197462718, 1.429095401268641, 1.7294374751791637, 1.853154698014703, 2.2579437327620266, 2.315070370937186, 2.8817747834892327, 2.957830495105887, 3.286903236087208, 3.6945565605452844, 3.534870521731662, 4.365961352528062, 4.201284068156083, 4.628902374847609, 4.88310643245349, 5.238671895338426, 5.3622059861928255, 5.712504159890264, 5.987777374246094, 6.336386343125361, 6.466677253252445, 6.796904643864861, 7.145704171288181, 7.220278670982382, 7.773181144782275, 7.886996749888535, 8.07883185566362, 8.397675827456954, 8.730464834508597]\n",
      "[-0.033333333333333326, 0.9208475864129385, 2.3499429876815796, 4.079380462860743, 5.932535160875446, 8.190478893637472, 10.50554926457466, 13.387324048063892, 16.345154543169777, 19.632057779256986, 23.326614339802273, 26.861484861533935, 31.227446214061995, 35.428730282218076, 40.05763265706569, 44.94073908951918, 50.179410984857604, 55.54161697105043, 61.25412113094069, 67.24189850518678, 73.57828484831215, 80.0449621015646, 86.84186674542946, 93.98757091671763, 101.20784958770001, 108.9810307324823, 116.86802748237082, 124.94685933803444, 133.3445351654914]\n"
     ]
    }
   ],
   "source": [
    "gauss_solution = gauss([row[:] for row in matrix], d.copy())\n",
    "a_gauss = calculate_a(x, h, gauss_solution)\n",
    "b_gauss = calculate_b(x, h, gauss_solution)\n",
    "\n",
    "print(gauss_solution)\n",
    "print(a_gauss)\n",
    "print(b_gauss)"
   ]
  },
  {
   "cell_type": "markdown",
   "metadata": {},
   "source": [
    "## Jacobi"
   ]
  },
  {
   "cell_type": "code",
   "execution_count": 18,
   "metadata": {},
   "outputs": [
    {
     "name": "stdout",
     "output_type": "stream",
     "text": [
      "[0.19999999999999996, 0.4749144818630316, 0.30034207447765754, 0.12371722376682283, 0.4047890358822926, 0.05712663946864474, 0.5667044142410887, 0.07605571301249817, 0.32907274317184015, 0.4076533257749337, -0.1596860362320856, 0.8310908319884435, -0.16467728156446476, 0.42761830783188703, 0.25420406044961286, 0.3555654640975237, 0.12353409356079453, 0.35029817507899563, 0.27527321679589534, 0.34860897044382005, 0.13029091221931388, 0.33022739226924125, 0.3487995291167185, 0.07457450125873574, 0.5529024750536385, 0.1138156063420154, 0.19183510654948827, 0.3188439724785911, 0.33278900731409566, 0.14999999999999147]\n",
      "[0.9541809196894947, 1.4290954012308956, 1.7294374751184722, 1.8531546979807554, 2.2579437327356073, 2.31507037087126, 2.8817747835380993, 2.9578304949734413, 3.2869032362328183, 3.6945565603345045, 3.5348705219632444, 4.365961352258817, 4.201284068433942, 4.6289023745637135, 4.883106432725347, 5.238671895089458, 5.362205986413632, 5.712504159713846, 5.987777374392013, 6.3363863430374145, 6.466677253325012, 6.796904643858765, 7.145704171309658, 7.22027867103418, 7.773181144785274, 7.8869967499654265, 8.078831855678477, 8.397675827527422, 8.73046483455234]\n",
      "[-0.033333333333333326, 0.9208475863561614, 2.349942987587057, 4.0793804627055295, 5.932535160686284, 8.190478893421892, 10.505549264293151, 13.387324047831251, 16.345154542804693, 19.63205777903751, 23.326614339372014, 26.86148486133526, 31.227446213594078, 35.42873028202802, 40.057632656591736, 44.94073908931708, 50.17941098440654, 55.54161697082017, 61.25412113053402, 67.24189850492603, 73.57828484796345, 80.04496210128845, 86.84186674514721, 93.98757091645687, 101.20784958749105, 108.98103073227634, 116.86802748224176, 124.94685933792023, 133.34453516544767]\n"
     ]
    }
   ],
   "source": [
    "jacobi_solution = jacobi(d, lambda_, mi, [0]*len(matrix), 10**-8, 1000)\n",
    "a_jacob = calculate_a(x, h, jacobi_solution)\n",
    "b_jacob = calculate_b(x, h, jacobi_solution)\n",
    "\n",
    "print(jacobi_solution)\n",
    "print(a_jacob)\n",
    "print(b_jacob)"
   ]
  },
  {
   "cell_type": "markdown",
   "metadata": {},
   "source": [
    "## SΔ(t)\n",
    "\n",
    "Para t no intervalo de \\[t<sub>i</sub>, t<sub>i+1</sub>\\]\n",
    "\n",
    "\n",
    "\n",
    "SΔ(t) = <sup>M<sub>i</sub></sup>&frasl;<sub>6h<sub>i+1</sub></sub> (t<sub>i+1</sub> - t)³ + <sup>M<sub>i+1</sub></sup>&frasl;<sub>6h<sub>i+1</sub></sub> (t - t<sub>i</sub>)³ + A<sub>i</sub>(t - t<sub>i</sub>) + B<sub>i</sub>\n",
    "\n",
    "\n",
    "Resumindo o problema a encontrar a qual intervalo pertence t"
   ]
  },
  {
   "cell_type": "code",
   "execution_count": 19,
   "metadata": {},
   "outputs": [],
   "source": [
    "def binary_search(arr, value):\n",
    "    m = 0\n",
    "    M = len(arr)\n",
    "    \n",
    "    while abs(M-m) > 1:\n",
    "        k = int((M+m)/2)\n",
    "        \n",
    "        if value > arr[k]:\n",
    "            m = k\n",
    "        else:\n",
    "            M = k\n",
    "    \n",
    "    return m"
   ]
  },
  {
   "cell_type": "code",
   "execution_count": 20,
   "metadata": {},
   "outputs": [],
   "source": [
    "def s_delta(m, t_, h, t, a, b):\n",
    "    i = binary_search(t_, t)\n",
    "    \n",
    "    first = (t_[i+1]-t) ** 3 * m[i]/(6*h[i+1]) \n",
    "    second = (t-t_[i]) ** 3 * m[i+1]/(6*h[i+1]) \n",
    "    third = a[i]*(t-t_[i]) + b[i]\n",
    "    \n",
    "    return first + second + third"
   ]
  },
  {
   "cell_type": "code",
   "execution_count": 21,
   "metadata": {},
   "outputs": [],
   "source": [
    "# Numero do grupo\n",
    "pi = 16\n",
    "therm = (100-2.3*pi)\n",
    "\n",
    "m = gauss_solution\n",
    "a = a_gauss\n",
    "b = b_gauss\n",
    "\n",
    "# f(t)\n",
    "f = lambda t_value: s_delta(m, t, h, t_value, a, b) -therm"
   ]
  },
  {
   "cell_type": "markdown",
   "metadata": {},
   "source": [
    "O Objetivo é encontrar t tal que f(t) = 0. Para isso, usaremos o método de Newton.\n",
    "\n",
    "Como ele leva a derivada, abaixo mostra-se a derivada de f em relação a t.\n",
    "\n",
    "f'(t) = S'Δ(t) = <sup>-M<sub>i</sub></sup>&frasl;<sub>2h<sub>i+1</sub></sub> (t<sub>i+1</sub> - t)² + <sup>M<sub>i+1</sub></sup>&frasl;<sub>2h<sub>i+1</sub></sub> (t - t<sub>i</sub>)² + A<sub>i</sub>"
   ]
  },
  {
   "cell_type": "code",
   "execution_count": 22,
   "metadata": {},
   "outputs": [],
   "source": [
    "def d_s_delta(m, t_, h, t, a):\n",
    "    i = binary_search(t_, t)\n",
    "    \n",
    "    first = (t_[i+1]-t) ** 2 * (-m[i]/(2*h[i+1]))\n",
    "    second = (t-t_[i]) ** 2 * m[i+1]/(2*h[i+1])\n",
    "    third = a[i]\n",
    "    \n",
    "    return first + second + third"
   ]
  },
  {
   "cell_type": "code",
   "execution_count": 23,
   "metadata": {},
   "outputs": [],
   "source": [
    "df = lambda t_value: d_s_delta(m, t, h, t_value, a)"
   ]
  },
  {
   "cell_type": "code",
   "execution_count": 24,
   "metadata": {},
   "outputs": [],
   "source": [
    "def newton(f, df, init, epsilon, k):\n",
    "    \n",
    "    i = 0\n",
    "    x = init\n",
    "    while i < k:\n",
    "        xx = x\n",
    "        if df(xx) != 0:\n",
    "            xx -= f(xx)/df(xx)\n",
    "            err = xx-x\n",
    "            x = xx\n",
    "            if(i < 6):\n",
    "                print((i+1, x))\n",
    "        else:\n",
    "            break\n",
    "            \n",
    "        if abs(err) <= epsilon:\n",
    "            break\n",
    "            \n",
    "        i += 1\n",
    "    \n",
    "    return xx"
   ]
  },
  {
   "cell_type": "markdown",
   "metadata": {},
   "source": [
    "Para usá-lo, é necessário encontrar um intervalo o qual a raiz esteja. Além disso, para todo o valor do intervalo, sua derivada não pode zerar e sua segunda derivada não pode trocar de sinal no intervalo"
   ]
  },
  {
   "cell_type": "code",
   "execution_count": 25,
   "metadata": {},
   "outputs": [
    {
     "name": "stdout",
     "output_type": "stream",
     "text": [
      "You should use the interval (18, 19)\n"
     ]
    }
   ],
   "source": [
    "init, end = 0, 0\n",
    "for i in range(len(t)-1):\n",
    "    if f(t[i]) * f(t[i+1]) < 0:\n",
    "        init, end = t[i], t[i+1]\n",
    "        print(f\"You should use the interval {t[i], t[i+1]}\")"
   ]
  },
  {
   "cell_type": "code",
   "execution_count": 26,
   "metadata": {},
   "outputs": [
    {
     "name": "stdout",
     "output_type": "stream",
     "text": [
      "5.850140767068178\n",
      "5.87803476727638\n",
      "5.906662125029815\n",
      "5.936022840328484\n",
      "5.966116913172388\n",
      "5.996944343561526\n",
      "6.028505131495899\n",
      "6.060799276975505\n",
      "6.093826780000347\n",
      "6.127587640570423\n",
      "6.162081858685732\n"
     ]
    }
   ],
   "source": [
    "i = init\n",
    "\n",
    "while i <= end:\n",
    "    print(df(i))\n",
    "    i += 0.1\n",
    "print(df(i))"
   ]
  },
  {
   "cell_type": "markdown",
   "metadata": {},
   "source": [
    "Apesar do conteúdo acima não servir como prova formal, consideraremos que f' nunca é 0 no intervalo \\[18, 19\\], pois entende-se que f' é crescente"
   ]
  },
  {
   "cell_type": "code",
   "execution_count": 27,
   "metadata": {},
   "outputs": [],
   "source": [
    "def dd_s_delta(m, t_, h, t, a):\n",
    "    i = binary_search(t_, t)\n",
    "    \n",
    "    first = (t_[i+1]-t) * m[i]/h[i+1]\n",
    "    second = (t-t_[i]) * m[i+1]/h[i+1]\n",
    "    \n",
    "    return first + second"
   ]
  },
  {
   "cell_type": "code",
   "execution_count": 28,
   "metadata": {},
   "outputs": [
    {
     "name": "stdout",
     "output_type": "stream",
     "text": [
      "0.27527321435583\n",
      "0.2826067898081739\n",
      "0.2899403652605177\n",
      "0.2972739407128615\n",
      "0.30460751616520537\n",
      "0.31194109161754924\n",
      "0.31927466706989305\n",
      "0.3266082425222369\n",
      "0.3339418179745807\n",
      "0.3412753934269246\n",
      "0.3486089688792674\n"
     ]
    }
   ],
   "source": [
    "ddf = lambda t_value: dd_s_delta(m, t, h, t_value, a)\n",
    "\n",
    "i = init\n",
    "\n",
    "while i <= end:\n",
    "    print(ddf(i))\n",
    "    i += 0.1\n",
    "print(ddf(end))"
   ]
  },
  {
   "cell_type": "markdown",
   "metadata": {},
   "source": [
    "De forma semelhante a f', tomaremos como positivo todo valor de f'' no intervalo \\[18, 19\\]. Portanto, executando Newton, temos o seguinte. "
   ]
  },
  {
   "cell_type": "code",
   "execution_count": 29,
   "metadata": {},
   "outputs": [
    {
     "name": "stdout",
     "output_type": "stream",
     "text": [
      "(1, 18.324778509723313)\n",
      "(2, 18.322265343514427)\n",
      "(3, 18.322265184606408)\n",
      "(4, 18.322265184606408)\n"
     ]
    },
    {
     "data": {
      "text/plain": [
       "18.322265184606408"
      ]
     },
     "execution_count": 29,
     "metadata": {},
     "output_type": "execute_result"
    }
   ],
   "source": [
    "newton(f, df, init, 1e-10, 100000)"
   ]
  },
  {
   "cell_type": "markdown",
   "metadata": {},
   "source": [
    "Somente para efeito de teste, abaixo está o valor de f para o t acima calculado. Deve ser o mais próximo possível de 0"
   ]
  },
  {
   "cell_type": "code",
   "execution_count": 34,
   "metadata": {},
   "outputs": [
    {
     "name": "stdout",
     "output_type": "stream",
     "text": [
      "(1, 18.324778509723313)\n",
      "(2, 18.322265343514427)\n",
      "(3, 18.322265184606408)\n",
      "(4, 18.322265184606408)\n"
     ]
    },
    {
     "data": {
      "text/plain": [
       "-7.105427357601002e-15"
      ]
     },
     "execution_count": 34,
     "metadata": {},
     "output_type": "execute_result"
    }
   ],
   "source": [
    "f(newton(f, df, init, 1e-10, 10000))"
   ]
  },
  {
   "cell_type": "markdown",
   "metadata": {},
   "source": [
    "## 1 Mostre que A é estritamente diagonal dominante e calcule o valor de σ\n",
    "\n",
    "Como A é definida, os valores da linha são tais que pertencem ao conjunto {2, λ<sub>i</sub>, μ<sub>i</sub>, 0}, onde, só 0 se repete, para i entre 0 e o número de linhas de A menos 1. Por definição 2 sempre está na diagonal. Quer-se provar que este 2 é maior que qualquer valor de λ e μ somados.\n",
    "\n",
    "Como μ é definido como esta divisão <sup>h<sub>i</sub></sup>&frasl;<sub>(h<sub>i</sub> + h<sub>i+1</sub>)</sub> e, por sua vez, h = t<sub>i+1</sub> - t<sub>i</sub> e percebendo que a divisão de um número pela adição deste a um segundo só pode ser maior que 1 se este segundo seja negativo, quer-se provar que t é crescente.\n",
    "\n",
    "De forma simétrica ocorre para λ.\n",
    "\n",
    "Como t representa contagem de tempo, t é estritamente crescente, implicando que o teto da sequência μ e λ é 1 e portanto o teto da soma de ambos é 2."
   ]
  },
  {
   "cell_type": "code",
   "execution_count": 30,
   "metadata": {},
   "outputs": [
    {
     "name": "stdout",
     "output_type": "stream",
     "text": [
      "0.5\n"
     ]
    }
   ],
   "source": [
    "abs_matrix = [[abs(el) for el in row] for row in matrix]\n",
    "\n",
    "sigma = max([\n",
    "    (1/abs(matrix[i][i])) * (sum(abs_matrix[i]) - abs_matrix[i][i]) \n",
    "    for i in range(len(matrix))\n",
    "])\n",
    "\n",
    "print(sigma)"
   ]
  },
  {
   "cell_type": "markdown",
   "metadata": {},
   "source": [
    "## 2 \n",
    "\n",
    "Para calcular k, obteremos o primeiro vetor, informado a função que rode uma única vez. Calcularemos sua norma e procuraremos para qual inteiro k, a equação resulta em um valor menor que 10<sup>-8</sup>\n"
   ]
  },
  {
   "cell_type": "code",
   "execution_count": 31,
   "metadata": {},
   "outputs": [
    {
     "name": "stdout",
     "output_type": "stream",
     "text": [
      "\n",
      "norm = 0.75\n",
      "k = 28\n"
     ]
    }
   ],
   "source": [
    "y_0_ = [0] * len(t)\n",
    "y_1_ = jacobi(d, lambda_, mi, [0]*len(t), 10**-8, 1)\n",
    "\n",
    "norm = norm_of_vectors_difference(y_1_, y_0_)\n",
    "\n",
    "print(f\"\\nnorm = {norm}\")\n",
    "\n",
    "k = 0\n",
    "value = 1\n",
    "\n",
    "while value > 1e-8:\n",
    "    k += 1\n",
    "    value = (sigma ** k)\n",
    "    value /= (1-sigma)\n",
    "    value *= norm\n",
    "\n",
    "print(f\"k = {k}\")"
   ]
  },
  {
   "cell_type": "markdown",
   "metadata": {},
   "source": [
    "## 3"
   ]
  },
  {
   "cell_type": "code",
   "execution_count": 32,
   "metadata": {},
   "outputs": [
    {
     "name": "stdout",
     "output_type": "stream",
     "text": [
      "[0.19999999999999996, 0.47491448152236915, 0.3003420739105226, 0.12371722283553932, 0.4047890347473239, 0.05712663817515884, 0.5667044125520472, 0.0760557116166542, 0.3290727409813211, 0.40765332445807634, -0.1596860388136224, 0.8310908307964004, -0.16467728437197943, 0.42761830669152584, 0.2542040576058802, 0.35556546288493635, 0.12353409085439998, 0.35029817369743826, 0.27527321435583, 0.3486089688792674, 0.1302909101270834, 0.3302273906124161, 0.3487995274233202, 0.07457449969420091, 0.5529024737998933, 0.11381560510625992, 0.19183510577508414, 0.3188439717933353, 0.33278900705164277, 0.14999999999999147]\n"
     ]
    }
   ],
   "source": [
    "y_star = gauss([row[:] for row in matrix], d.copy())\n",
    "print(y_star)"
   ]
  },
  {
   "cell_type": "markdown",
   "metadata": {},
   "source": [
    "## 4"
   ]
  },
  {
   "cell_type": "code",
   "execution_count": 33,
   "metadata": {},
   "outputs": [
    {
     "name": "stdout",
     "output_type": "stream",
     "text": [
      "[0.19999999999999996, 0.4749144818630316, 0.30034207447765754, 0.12371722376682283, 0.4047890358822926, 0.05712663946864474, 0.5667044142410887, 0.07605571301249817, 0.32907274317184015, 0.4076533257749337, -0.1596860362320856, 0.8310908319884435, -0.16467728156446476, 0.42761830783188703, 0.25420406044961286, 0.3555654640975237, 0.12353409356079453, 0.35029817507899563, 0.27527321679589534, 0.34860897044382005, 0.13029091221931388, 0.33022739226924125, 0.3487995291167185, 0.07457450125873574, 0.5529024750536385, 0.1138156063420154, 0.19183510654948827, 0.3188439724785911, 0.33278900731409566, 0.14999999999999147]\n",
      "\n",
      "norm = 2.8437326382579897e-09\n"
     ]
    }
   ],
   "source": [
    "y_jacob = jacobi(d, lambda_, mi, [0]*len(t), 1e-8, 28)\n",
    "\n",
    "print(y_jacob)\n",
    "print()\n",
    "print(f\"norm = {norm_of_vectors_difference(y_jacob, y_star)}\")"
   ]
  }
 ],
 "metadata": {
  "kernelspec": {
   "display_name": "Python 3",
   "language": "python",
   "name": "python3"
  },
  "language_info": {
   "codemirror_mode": {
    "name": "ipython",
    "version": 3
   },
   "file_extension": ".py",
   "mimetype": "text/x-python",
   "name": "python",
   "nbconvert_exporter": "python",
   "pygments_lexer": "ipython3",
   "version": "3.8.1"
  }
 },
 "nbformat": 4,
 "nbformat_minor": 4
}
