{
 "cells": [
  {
   "cell_type": "code",
   "execution_count": 1,
   "metadata": {},
   "outputs": [],
   "source": [
    "def print_matrix(matrix):\n",
    "    return ('[' + \n",
    "            ']\\n['.join(\n",
    "                [''.join(\n",
    "                    ['{}\\t'.format(row[i]) if i != len(row)-1 \n",
    "                     else '{}'.format(row[i]) \n",
    "                     for i in range(len(row))]\n",
    "                ) for row in matrix]\n",
    "            ) + ']')"
   ]
  },
  {
   "cell_type": "code",
   "execution_count": 2,
   "metadata": {},
   "outputs": [],
   "source": [
    "t_test = [i/10 for i in range(11)]\n",
    "x_test = [2, 1.81, 1.64, 1.49, 1.36, 1.25, 1.16, 1.09, 1.04, 1.01, 1]\n",
    "\n",
    "\n",
    "x0_test = 2\n",
    "xn_test = 2"
   ]
  },
  {
   "cell_type": "markdown",
   "metadata": {},
   "source": [
    "# Implementando o cálculo de h\n",
    "\n",
    "De forma geral, o vetor h é definido da seguinte forma:\n",
    "\n",
    "> h<sub>i+1</sub> = t<sub>i+1</sub> - t<sub>i</sub>, para i no intervalo \\[0, n-1\\]\n",
    "\n",
    "Para facilitar a implementação, o h<sub>0</sub> será considerado 0, mas não será usado na conta."
   ]
  },
  {
   "cell_type": "code",
   "execution_count": 3,
   "metadata": {},
   "outputs": [],
   "source": [
    "def calculate_h(values):\n",
    "    h = [None] + [\n",
    "        values[i+1] - values[i]\n",
    "        for i in range(len(values)-1)\n",
    "    ]\n",
    "    \n",
    "    return h"
   ]
  },
  {
   "cell_type": "markdown",
   "metadata": {},
   "source": [
    "# Calculando λ\n",
    "\n",
    "Cada um dos λ<sub>i</sub>, i ∈ \\[0, n-1\\] é descrito da seguinte forma:\n",
    "\n",
    "> se i = 0 &rarr; λ<sub>0</sub> = 0 <br> senão &rarr; λ<sub>i</sub> = <sup>h<sub>i+1</sub></sup>&frasl;<sub>(h<sub>i</sub> + h<sub>i+1</sub>)"
   ]
  },
  {
   "cell_type": "code",
   "execution_count": 4,
   "metadata": {},
   "outputs": [],
   "source": [
    "def calculate_lambda(h_values):\n",
    "    lambda_ = [0.0] + [\n",
    "        h_values[i+1]/(h_values[i]+h_values[i+1])\n",
    "        for i in range(1, len(h_values)-1)\n",
    "    ]\n",
    "    \n",
    "    return lambda_"
   ]
  },
  {
   "cell_type": "markdown",
   "metadata": {},
   "source": [
    "# Calculando μ\n",
    "\n",
    "Cada um dos μ<sub>i</sub> i ∈ \\[1, n\\] são definidos da seguinte forma:\n",
    "\n",
    "> se i == n &rarr; μ<sub>i</sub> = 0 <br> senão μ<sub>i</sub> = <sup>h<sub>i</sub></sup>&frasl;<sub>(h<sub>i</sub> + h<sub>i+1</sub>)\n",
    "\n",
    "Para efeito de facilidade, definiremos o μ<sub>0</sub> como 0, mas ele não será utilizado na matriz final."
   ]
  },
  {
   "cell_type": "code",
   "execution_count": 5,
   "metadata": {},
   "outputs": [],
   "source": [
    "def calculate_mi(h_values):\n",
    "    mi = [None] + [\n",
    "        h_values[i]/(h_values[i]+h_values[i+1]) \n",
    "        for i in range(1, len(h_values)-1)\n",
    "    ] + [0.0]\n",
    "    \n",
    "    return mi"
   ]
  },
  {
   "cell_type": "markdown",
   "metadata": {},
   "source": [
    "# Matriz\n",
    "\n",
    "Com isso já é possível construir a matriz, como segue na função:"
   ]
  },
  {
   "cell_type": "code",
   "execution_count": 6,
   "metadata": {},
   "outputs": [],
   "source": [
    "def build_matrix(lambda_, mi, size):\n",
    "    matrix = []\n",
    "    for i in range(size):\n",
    "        matrix_i = []\n",
    "        for j in range(size):\n",
    "            if i == j:\n",
    "                matrix_i += [2.0]\n",
    "            elif i-1 == j:\n",
    "                matrix_i += [mi[j+1]]\n",
    "            elif j-1 == i:\n",
    "                matrix_i += [lambda_[i]]\n",
    "            else:\n",
    "                matrix_i += [0.0]\n",
    "        matrix += [matrix_i]\n",
    "    \n",
    "    return matrix"
   ]
  },
  {
   "cell_type": "markdown",
   "metadata": {},
   "source": [
    "Para efeito de teste, uma das características dessa matriz é ser quadrada. Aqui se encontra uma forma de descobrir se esta matriz é quadrada.\n"
   ]
  },
  {
   "cell_type": "code",
   "execution_count": 7,
   "metadata": {},
   "outputs": [],
   "source": [
    "def is_square_matrix(matrix):\n",
    "    expected_size = len(matrix)\n",
    "    \n",
    "    for each_list in matrix:\n",
    "        if len(each_list) != expected_size:\n",
    "            return False\n",
    "        \n",
    "    return True"
   ]
  },
  {
   "cell_type": "markdown",
   "metadata": {},
   "source": [
    "## Calculando d\n",
    "\n",
    "Cada um dos d<sub>i</sub> entre \\[0, n\\], e dados d<sub>0</sub> e d<sub>n</sub>, o vetor d é o que segue:\n"
   ]
  },
  {
   "cell_type": "code",
   "execution_count": 8,
   "metadata": {},
   "outputs": [],
   "source": [
    "def calculate_d(x, h, x0, xn):\n",
    "    therms = [\n",
    "        (6 / (h[i] + h[i+1]),\n",
    "        (x[i+1] - x[i]) / h[i+1],\n",
    "        (x[i] - x[i-1])/h[i])\n",
    "        for i in range(1, len(h)-1)\n",
    "    ]\n",
    "    \n",
    "    d = [x0] + [\n",
    "        therm[0] * (therm[1] - therm[2])\n",
    "        for therm in therms\n",
    "    ] + [xn]\n",
    "    \n",
    "    return d"
   ]
  },
  {
   "cell_type": "markdown",
   "metadata": {},
   "source": [
    "Possuindo todos os termos, o objetivo é encontrar o valor das constantes M<sub>i</sub>. Para isso, é necessário calcular a equação Ax = b, onde A é a matriz, e b o vetor d. Para este problema, foi proposto a solução de Gauss e de Jacobi, como segue:\n",
    "\n",
    "## Eliminação de Gauss\n",
    "Primeiro deve-se escalonar a matriz, conforme o algoritmo abaixo."
   ]
  },
  {
   "cell_type": "code",
   "execution_count": 9,
   "metadata": {},
   "outputs": [],
   "source": [
    "def echelon_form(m, y):\n",
    "    for j in range(len(m)-1):\n",
    "        if m[j][j] == 0:\n",
    "            k = 0\n",
    "            for k in range(j+1, len(m)):\n",
    "                if m[k][j] != 0:\n",
    "                    m[k], m[j] = m[j], m[k]\n",
    "                    break\n",
    "            \n",
    "            if k == len(m):\n",
    "                return None\n",
    "        \n",
    "        for i in range(j+1, len(m)):\n",
    "            m_i = -m[i][j] / m[j][j]\n",
    "            \n",
    "            for k in range(j, len(m)):\n",
    "                m[i][k] += m_i * m[j][k]\n",
    "                \n",
    "            y[i] += m_i * y[j]\n",
    "            \n",
    "    \n",
    "    return m"
   ]
  },
  {
   "cell_type": "markdown",
   "metadata": {},
   "source": [
    "Depois, devemos calcular o valor da solução, podendo usar o método de eliminação de Gauss, como segue."
   ]
  },
  {
   "cell_type": "code",
   "execution_count": 10,
   "metadata": {},
   "outputs": [],
   "source": [
    "def gauss(a, b):\n",
    "    m_echelon_form = echelon_form(a, b)\n",
    "    matrix = m_echelon_form\n",
    "    \n",
    "    x = [0.0 for i in range(len(matrix))]\n",
    "    \n",
    "    for i in range(len(matrix)-1, -1, -1):\n",
    "        xi = b[i]\n",
    "        \n",
    "        for j in range(i+1, len(matrix)):\n",
    "            xi -= matrix[i][j] * x[j]\n",
    "        \n",
    "        xi /= matrix[i][i]\n",
    "        x[i] = xi\n",
    "    \n",
    "    return x\n",
    "        "
   ]
  },
  {
   "cell_type": "markdown",
   "metadata": {},
   "source": [
    "## Algoritmo de Jacobi\n",
    "\n",
    "Para calcular a solução da matriz usando Jacobi, é necessários critérios de convergência. É comum que se escolha uma tolerância e um número de iterações máximo.\n",
    "\n",
    "Para o número de iterações, basta contabilizar o número de vezes que um laço foi executado.\n",
    "\n",
    "Quanto a tolerância, o desejado é que um número epsilon fique menor que a tolerância, e portanto precisa definir um valor de epsilon para cada iteração. Usaremos para esse caso a norma-∞ da diferença do vetor da iteração atual e da iteração anterior, como segue: "
   ]
  },
  {
   "cell_type": "code",
   "execution_count": 11,
   "metadata": {},
   "outputs": [],
   "source": [
    "def norm_of_vectors_difference(x, y):\n",
    "    if len(x) != len(y):\n",
    "        return None\n",
    "        \n",
    "    norms_list = [abs(x[i]-y[i]) for i in range(len(x))]\n",
    "    return max(norms_list)"
   ]
  },
  {
   "cell_type": "code",
   "execution_count": 12,
   "metadata": {},
   "outputs": [],
   "source": [
    "def jacobi(a, d, lambda_, mi, guessed_x, tolerance, max_iteration):\n",
    "    epsilon = tolerance + 1\n",
    "    k = 0\n",
    "    \n",
    "    x_old = guessed_x\n",
    "    x_new = guessed_x\n",
    "    \n",
    "    while k < max_iteration and epsilon > tolerance:\n",
    "        x0 = 1/2 * (d[0] - lambda_[0] * x_old[1])\n",
    "        xn = 1/2 * (d[len(d)-1] - mi[len(d)-1] * x_old[len(d)-2])\n",
    "        x_new = [x0] + [\n",
    "            (1/2 * (d[i] - mi[i] * x_old[i-1] - lambda_[i] * x_old[i+1]))\n",
    "            for i in range(1, len(d)-1)\n",
    "        ] + [xn]\n",
    "        \n",
    "        epsilon = norm_of_vectors_difference(x_new, x_old)\n",
    "        x_old = x_new\n",
    "        k += 1\n",
    "    \n",
    "    return x_new"
   ]
  },
  {
   "cell_type": "markdown",
   "metadata": {},
   "source": [
    "Agora, só é necessário calcular os valores das constantes A e B"
   ]
  },
  {
   "cell_type": "code",
   "execution_count": 13,
   "metadata": {},
   "outputs": [],
   "source": [
    "def calculate_a(x, h, m):\n",
    "    therms = [\n",
    "        ((x[i+1]-x[i])/h[i+1],\n",
    "        h[i+1] * (m[i+1]-m[i])/6)\n",
    "        for i in range(len(x)-1)\n",
    "    ]\n",
    "    \n",
    "    a = [therm_one - therm_two for therm_one, therm_two in therms]\n",
    "    \n",
    "    return a\n",
    "    "
   ]
  },
  {
   "cell_type": "code",
   "execution_count": 14,
   "metadata": {},
   "outputs": [],
   "source": [
    "def calculate_b(x, h, m):\n",
    "    b = [\n",
    "        x[i] - (m[i] / 6) * h[i+1] ** 2\n",
    "        for i in range(len(x)-1)\n",
    "    ]\n",
    "    \n",
    "    return b"
   ]
  },
  {
   "cell_type": "markdown",
   "metadata": {},
   "source": [
    "## Calculando para os valores de teste"
   ]
  },
  {
   "cell_type": "code",
   "execution_count": 15,
   "metadata": {
    "scrolled": false
   },
   "outputs": [
    {
     "name": "stdout",
     "output_type": "stream",
     "text": [
      "[2.0\t0.0\t0.0\t0.0\t0.0\t0.0\t0.0\t0.0\t0.0\t0.0\t0.0]\n",
      "[0.5\t2.0\t0.5\t0.0\t0.0\t0.0\t0.0\t0.0\t0.0\t0.0\t0.0]\n",
      "[0.0\t0.5000000000000001\t2.0\t0.49999999999999994\t0.0\t0.0\t0.0\t0.0\t0.0\t0.0\t0.0]\n",
      "[0.0\t0.0\t0.4999999999999999\t2.0\t0.5000000000000001\t0.0\t0.0\t0.0\t0.0\t0.0\t0.0]\n",
      "[0.0\t0.0\t0.0\t0.5000000000000001\t2.0\t0.4999999999999999\t0.0\t0.0\t0.0\t0.0\t0.0]\n",
      "[0.0\t0.0\t0.0\t0.0\t0.5\t2.0\t0.5\t0.0\t0.0\t0.0\t0.0]\n",
      "[0.0\t0.0\t0.0\t0.0\t0.0\t0.5\t2.0\t0.5\t0.0\t0.0\t0.0]\n",
      "[0.0\t0.0\t0.0\t0.0\t0.0\t0.0\t0.4999999999999997\t2.0\t0.5000000000000002\t0.0\t0.0]\n",
      "[0.0\t0.0\t0.0\t0.0\t0.0\t0.0\t0.0\t0.5000000000000002\t2.0\t0.4999999999999997\t0.0]\n",
      "[0.0\t0.0\t0.0\t0.0\t0.0\t0.0\t0.0\t0.0\t0.5\t2.0\t0.5]\n",
      "[0.0\t0.0\t0.0\t0.0\t0.0\t0.0\t0.0\t0.0\t0.0\t0.0\t2.0]\n",
      "M_gauss = [2.0, 1.9999999999999596, 2.0000000000000395, 2.000000000000014, 1.9999999999999545, 2.0000000000000036, 2.000000000000046, 1.9999999999999645, 2.000000000000002, 2.0000000000000036, 2.0]\n",
      "\n",
      "M_jacob = [2.0, 1.6051633388521012, 1.579346343537881, 1.577450696920636, 1.5775167474632463, 1.5767670728088243, 1.579528820186255, 1.5692192558820084, 1.6076950521166313, 1.464101565663694, 2.0]\n",
      "\n",
      "A_gauss = [-1.8999999999999988, -1.7000000000000028, -1.499999999999999, -1.2999999999999976, -1.100000000000002, -0.9000000000000017, -0.6999999999999972, -0.5000000000000007, -0.3000000000000003, -0.10000000000000006]\n",
      "\n",
      "A_jacob = [-1.893419388980868, -1.6995697167447645, -1.499968405889712, -1.3000011008423753, -1.0999875054224275, -0.9000460291229582, -0.699828173928261, -0.500641263270577, -0.2976067752257847, -0.10893164057227188]\n",
      "\n",
      "B_gauss = [1.9966666666666666, 1.8066666666666669, 1.6366666666666665, 1.4866666666666666, 1.356666666666667, 1.2466666666666666, 1.1566666666666665, 1.086666666666667, 1.0366666666666666, 1.0066666666666666]\n",
      "\n",
      "B_jacob = [1.9966666666666666, 1.8073247277685798, 1.6373677560941033, 1.4873709155051322, 1.3573708054208946, 1.247372054878652, 1.1573674519663562, 1.08738463457353, 1.0373205082464723, 1.0075598307238938]\n",
      "\n"
     ]
    }
   ],
   "source": [
    "h = calculate_h(t_test)\n",
    "\n",
    "lambda_ = calculate_lambda(h)\n",
    "\n",
    "mi = calculate_mi(h)\n",
    "\n",
    "matrix = build_matrix(lambda_, mi, len(t_test))\n",
    "print(print_matrix(matrix))\n",
    "print\n",
    "\n",
    "d = calculate_d(x_test, h, 2*x0_test, 2*xn_test)\n",
    "\n",
    "gauss_result = gauss(matrix, d)\n",
    "print(f\"M_gauss = {gauss_result}\\n\")\n",
    "jacobi_result = jacobi(matrix, d, lambda_, mi, [0]*len(t_test), 1/(10**6), 1000)\n",
    "print(f\"M_jacob = {jacobi_result}\\n\")\n",
    "\n",
    "a_gauss = calculate_a(x_test, h, gauss_result)\n",
    "a_jacob = calculate_a(x_test, h, jacobi_result)\n",
    "print(f\"A_gauss = {a_gauss}\\n\")\n",
    "print(f\"A_jacob = {a_jacob}\\n\")\n",
    "\n",
    "b_gauss = calculate_b(x_test, h, gauss_result)\n",
    "b_jacob = calculate_b(x_test, h, jacobi_result)\n",
    "print(f\"B_gauss = {b_gauss}\\n\")\n",
    "print(f\"B_jacob = {b_jacob}\\n\")"
   ]
  },
  {
   "cell_type": "markdown",
   "metadata": {},
   "source": [
    "# Tarefa 2"
   ]
  },
  {
   "cell_type": "markdown",
   "metadata": {},
   "source": [
    "## 2.1 Monte e resolva o sistema de equações"
   ]
  },
  {
   "cell_type": "code",
   "execution_count": 16,
   "metadata": {},
   "outputs": [],
   "source": [
    "t = list(range(30))\n",
    "\n",
    "x = [\n",
    "    0.0, 1, 2.4, 4.1, 6, 8.2, 10.6, 13.4, 16.4, 19.7,\n",
    "    23.3, 27, 31.2, 35.5, 40.1, 45, 50.2, 55.6, 61.3, 67.3,\n",
    "    73.6, 80.1, 86.9, 94, 101.3, 109, 116.9, 125, 133.4, 142.1\n",
    "]\n",
    "\n",
    "x0 = (x[2] - x[1])/(t[2] - t[1])\n",
    "x0 -= (x[1] - x[0])/(t[1] - t[0])\n",
    "x0 /= (t[2] - t[0])\n",
    "xn = (x[len(t)-1] - x[len(t)-2])/(t[len(t)-1] - t[len(t)-2])\n",
    "xn -= (x[len(t)-2] - x[len(t)-3])/(t[len(t)-2] - t[len(t)-3])\n",
    "xn /= (t[len(t)-1] - t[len(t)-3])\n",
    "\n",
    "h = calculate_h(t)\n",
    "mi = calculate_mi(h)\n",
    "lambda_ = calculate_lambda(h)\n",
    "\n",
    "matrix = build_matrix(lambda_, mi, len(t))\n",
    "\n",
    "d = calculate_d(x, h, 2*x0, 2*xn)"
   ]
  },
  {
   "cell_type": "markdown",
   "metadata": {},
   "source": [
    "## Gauss"
   ]
  },
  {
   "cell_type": "code",
   "execution_count": 17,
   "metadata": {},
   "outputs": [
    {
     "name": "stdout",
     "output_type": "stream",
     "text": [
      "[0.19999999999999996, 0.47491448152236915, 0.3003420739105226, 0.12371722283553932, 0.4047890347473239, 0.05712663817515884, 0.5667044125520472, 0.0760557116166542, 0.3290727409813211, 0.40765332445807634, -0.1596860388136224, 0.8310908307964004, -0.16467728437197943, 0.42761830669152584, 0.2542040576058802, 0.35556546288493635, 0.12353409085439998, 0.35029817369743826, 0.27527321435583, 0.3486089688792674, 0.1302909101270834, 0.3302273906124161, 0.3487995274233202, 0.07457449969420091, 0.5529024737998933, 0.11381560510625992, 0.19183510577508414, 0.3188439717933353, 0.33278900705164277, 0.14999999999999147]\n"
     ]
    }
   ],
   "source": [
    "gauss_solution = gauss(matrix, d)\n",
    "print(gauss_solution)"
   ]
  },
  {
   "cell_type": "markdown",
   "metadata": {},
   "source": [
    "## Jacobi"
   ]
  },
  {
   "cell_type": "code",
   "execution_count": 18,
   "metadata": {},
   "outputs": [
    {
     "name": "stdout",
     "output_type": "stream",
     "text": [
      "[0.19999999999999996, 0.4550377807929016, 0.179848878402004, 0.07556670831908079, 0.3845509593741474, -0.04591339768201248, 0.5790069439146132, -0.07908872941142757, 0.3502645045407372, 0.3138002346479809, -0.2437685556992189, 0.8964084196223933, -0.4048691937048717, 0.5361026813673482, 0.11055577974641122, 0.32594213283517687, 0.03619815990269555, 0.34059891628481376, 0.18400997896185944, 0.2993037693976801, 0.05009224537424119, 0.3168069456278816, 0.26390490730372734, 0.003885490891063159, 0.5517714319546494, -0.03369548359687142, 0.19961123472221604, 0.27003288182201496, 0.24298815050760514, 0.14999999999999147]\n"
     ]
    }
   ],
   "source": [
    "jacobi_solution = jacobi(matrix, d, lambda_, mi, [0]*len(matrix), 10**-8, 1000)\n",
    "print(jacobi_solution)"
   ]
  },
  {
   "cell_type": "markdown",
   "metadata": {},
   "source": [
    "## 1 Mostre que A é estritamente diagonal dominante e calcule o valor de σ\n",
    "\n",
    "Como A é definida, os valores da linha são tais que pertencem ao conjunto {2, λ<sub>i</sub>, μ<sub>i</sub>, 0}, onde, só 0 se repete, para i entre 0 e o número de linhas de A menos 1. Por definição 2 sempre está na diagonal. Quer-se provar que este 2 é maior que qualquer valor de λ e μ somados.\n",
    "\n",
    "Como μ é definido como esta divisão <sup>h<sub>i</sub></sup>&frasl;<sub>(h<sub>i</sub> + h<sub>i+1</sub>)</sub> e, por sua vez, h = t<sub>i+1</sub> - t<sub>i</sub> e percebendo que a divisão de um número pela adição deste a um segundo só pode ser maior que 1 se este segundo seja negativo, quer-se provar que t é crescente.\n",
    "\n",
    "De forma simétrica ocorre para λ.\n",
    "\n",
    "Como t representa contagem de tempo, t é estritamente crescente, implicando que o teto da sequência μ e λ é 1 e portanto o teto da soma de ambos é 2."
   ]
  },
  {
   "cell_type": "code",
   "execution_count": 19,
   "metadata": {},
   "outputs": [
    {
     "name": "stdout",
     "output_type": "stream",
     "text": [
      "0.2679491924311227\n"
     ]
    }
   ],
   "source": [
    "abs_matrix = [[abs(el) for el in row] for row in matrix]\n",
    "\n",
    "sigma = max([\n",
    "    (1/abs(matrix[i][i])) * (sum(abs_matrix[i]) - abs_matrix[i][i]) \n",
    "    for i in range(len(matrix))\n",
    "])\n",
    "\n",
    "print(sigma)"
   ]
  },
  {
   "cell_type": "markdown",
   "metadata": {},
   "source": [
    "## 2 \n",
    "\n",
    "Para calcular k, obteremos o primeiro vetor, informado a função que rode uma única vez. Calcularemos sua norma e procuraremos para qual inteiro k, a equação resulta em um valor menor que 10<sup>-8</sup>\n"
   ]
  },
  {
   "cell_type": "code",
   "execution_count": 20,
   "metadata": {},
   "outputs": [
    {
     "name": "stdout",
     "output_type": "stream",
     "text": [
      "[0, 0, 0, 0, 0, 0, 0, 0, 0, 0, 0, 0, 0, 0, 0, 0, 0, 0, 0, 0, 0, 0, 0, 0, 0, 0, 0, 0, 0, 0]\n",
      "[0.19999999999999996, 0.5499999999999998, 0.3124999999999998, 0.21666666666666767, 0.3919642857142839, 0.19497607655502602, 0.5477564102564102, 0.15322913088285442, 0.4089423784977956, 0.3404242200024662, 0.05878360517063315, 0.7342489804663921, -0.04674142135929507, 0.4625243261063068, 0.32606698034006176, 0.3626306159394321, 0.20283341930822218, 0.39565094909831433, 0.34398564770450585, 0.3578293234896767, 0.20411992174277044, 0.39530623180993774, 0.34407801442351144, 0.2078045739019202, 0.5443189322394955, 0.15415018168146047, 0.25869558330532477, 0.380682727367857, 0.3479963706292799, 0.14999999999999147]\n",
      "\n",
      "norm = 0.7342489804663921\n",
      "k = 14\n"
     ]
    }
   ],
   "source": [
    "y_0_ = [0] * len(t)\n",
    "print(y_0_)\n",
    "y_1_ = jacobi(matrix, d, lambda_, mi, [0]*len(t), 10**-8, 1)\n",
    "print(y_1_)\n",
    "\n",
    "norm = norm_of_vectors_difference(y_1_, y_0_)\n",
    "\n",
    "print(f\"\\nnorm = {norm}\")\n",
    "\n",
    "k = 0\n",
    "\n",
    "value = 1\n",
    "\n",
    "while value > 1e-8:\n",
    "    k += 1\n",
    "    value = (sigma ** k)\n",
    "    value /= (1-sigma)\n",
    "    value *= norm\n",
    "\n",
    "print(f\"k = {k}\")"
   ]
  },
  {
   "cell_type": "markdown",
   "metadata": {},
   "source": [
    "## 3"
   ]
  },
  {
   "cell_type": "code",
   "execution_count": 21,
   "metadata": {},
   "outputs": [
    {
     "name": "stdout",
     "output_type": "stream",
     "text": [
      "[0.19999999999999996, 0.47491448152236915, 0.3003420739105226, 0.12371722283553932, 0.4047890347473239, 0.05712663817515884, 0.5667044125520472, 0.0760557116166542, 0.3290727409813211, 0.40765332445807634, -0.1596860388136224, 0.8310908307964004, -0.16467728437197943, 0.42761830669152584, 0.2542040576058802, 0.35556546288493635, 0.12353409085439998, 0.35029817369743826, 0.27527321435583, 0.3486089688792674, 0.1302909101270834, 0.3302273906124161, 0.3487995274233202, 0.07457449969420091, 0.5529024737998933, 0.11381560510625989, 0.19183510577508414, 0.3188439717933353, 0.33278900705164277, 0.14999999999999147]\n"
     ]
    }
   ],
   "source": [
    "y_star = gauss(matrix, d)\n",
    "print(y_star)"
   ]
  },
  {
   "cell_type": "markdown",
   "metadata": {},
   "source": [
    "## 4"
   ]
  },
  {
   "cell_type": "code",
   "execution_count": 22,
   "metadata": {},
   "outputs": [
    {
     "name": "stdout",
     "output_type": "stream",
     "text": [
      "[0.19999999999999996, 0.45503652693958635, 0.17984045944427035, 0.07556277476306593, 0.3845373378588986, -0.045920924571288754, 0.5789932200241923, -0.07910159537758268, 0.3502551558677227, 0.31378088652736225, -0.24377210614010653, 0.8963837644378119, -0.4048690349293561, 0.536076035004811, 0.11055595877455447, 0.32591699690184833, 0.03619545043634183, 0.3405773999375856, 0.18400315876896417, 0.29928654785138387, 0.05008142708641221, 0.3167939175878434, 0.26389132225228074, 0.0038762013660914862, 0.5517576323469446, -0.033701540051600073, 0.1996007675399768, 0.2700298331953952, 0.2429842279261376, 0.14999999999999147]\n",
      "0.24019175055737668\n"
     ]
    }
   ],
   "source": [
    "y_jacob = jacobi(matrix, d, lambda_, mi, [0]*len(t), 1e-8, k)\n",
    "\n",
    "print(y_jacob)\n",
    "\n",
    "print(norm_of_vectors_difference(y_jacob, y_star))"
   ]
  }
 ],
 "metadata": {
  "kernelspec": {
   "display_name": "Python 3",
   "language": "python",
   "name": "python3"
  },
  "language_info": {
   "codemirror_mode": {
    "name": "ipython",
    "version": 3
   },
   "file_extension": ".py",
   "mimetype": "text/x-python",
   "name": "python",
   "nbconvert_exporter": "python",
   "pygments_lexer": "ipython3",
   "version": "3.7.6"
  }
 },
 "nbformat": 4,
 "nbformat_minor": 4
}
